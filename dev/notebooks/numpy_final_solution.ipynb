{
 "cells": [
  {
   "attachments": {},
   "cell_type": "markdown",
   "metadata": {},
   "source": [
    "# Replicar el resultado de PyCaret usando numpy como funciones personalizadas para el preprocesamiento\n",
    "Para mejorar las métricas de producción y optimizar las pruebas de estrés a la API, se realizó el mismo procesamiento de datos que se mencionó anteriormente, pero en lugar de utilizar las librerías Pandas, Scikit-learn y Pycaret, se utilizó la librería NumPy debido a su mejor rendimiento en producción.\n",
    "\n",
    "NumPy es una librería de Python que se utiliza para realizar cálculos numéricos en grandes conjuntos de datos y que está optimizada para una mayor velocidad de procesamiento. Debido a su alta velocidad y eficiencia en el procesamiento de grandes conjuntos de datos, se utiliza comúnmente en aplicaciones de producción y para el procesamiento de datos en tiempo real.\n",
    "\n",
    "Al utilizar NumPy en lugar de Pandas, Scikit-learn, se logró mejorar el rendimiento y la velocidad de procesamiento del código, lo que es especialmente útil en la aplicación de producción donde el tiempo de respuesta y la eficiencia son factores críticos."
   ]
  },
  {
   "cell_type": "code",
   "execution_count": 244,
   "metadata": {},
   "outputs": [],
   "source": [
    "import pandas as pd\n",
    "from imblearn.under_sampling import RandomUnderSampler\n",
    "from sklearn.ensemble import GradientBoostingClassifier\n",
    "import numpy as np"
   ]
  },
  {
   "cell_type": "code",
   "execution_count": 224,
   "metadata": {},
   "outputs": [],
   "source": [
    "X_train= pd.read_csv('../data/processed/checkpoints/X_train_check1.csv', index_col=[0])\n",
    "X_test = pd.read_csv('../data/processed/checkpoints/X_test_check1.csv', index_col=[0])\n",
    "y_train = pd.read_csv('../data/processed/checkpoints/y_train_check1.csv', index_col=[0])\n",
    "y_test = pd.read_csv('../data/processed/checkpoints/y_testcheck1.csv', index_col=[0])"
   ]
  },
  {
   "cell_type": "code",
   "execution_count": 225,
   "metadata": {},
   "outputs": [
    {
     "name": "stderr",
     "output_type": "stream",
     "text": [
      "/var/folders/lh/lp38lfv52zb_kgpv2bg7f_3c0000gn/T/ipykernel_53093/3769976087.py:1: FutureWarning: In a future version of pandas all arguments of concat except for the argument 'objs' will be keyword-only.\n",
      "  train = pd.concat([X_train, y_train],1)\n",
      "/var/folders/lh/lp38lfv52zb_kgpv2bg7f_3c0000gn/T/ipykernel_53093/3769976087.py:2: FutureWarning: In a future version of pandas all arguments of concat except for the argument 'objs' will be keyword-only.\n",
      "  test = pd.concat([X_test, y_test],1)\n"
     ]
    }
   ],
   "source": [
    "train = pd.concat([X_train, y_train],1)\n",
    "test = pd.concat([X_test, y_test],1)"
   ]
  },
  {
   "cell_type": "code",
   "execution_count": 226,
   "metadata": {},
   "outputs": [
    {
     "data": {
      "text/plain": [
       "((47744, 16), (20462, 16))"
      ]
     },
     "execution_count": 226,
     "metadata": {},
     "output_type": "execute_result"
    }
   ],
   "source": [
    "train.shape, test.shape"
   ]
  },
  {
   "cell_type": "code",
   "execution_count": 227,
   "metadata": {},
   "outputs": [],
   "source": [
    "# esto tiene que estar en la seccion del enrichment - Cambiarlo desp\n",
    "train.rename(columns={'km-ovsd':'km_ovsd'}, inplace=True)\n",
    "test.rename(columns={'km-ovsd':'km_ovsd'}, inplace=True)"
   ]
  },
  {
   "cell_type": "code",
   "execution_count": 228,
   "metadata": {},
   "outputs": [
    {
     "data": {
      "text/plain": [
       "Index(['dia', 'mes', 'km_ovsd', 't_media', 'v_media_viento', 'presion_media',\n",
       "       'cantidad_de_lluvia_mm', 'nubosidad_perc', 'temporada_alta',\n",
       "       'atraso_15'],\n",
       "      dtype='object')"
      ]
     },
     "execution_count": 228,
     "metadata": {},
     "output_type": "execute_result"
    }
   ],
   "source": [
    "train.select_dtypes(exclude='object').columns"
   ]
  },
  {
   "cell_type": "code",
   "execution_count": 229,
   "metadata": {},
   "outputs": [],
   "source": [
    "# X_train['km_ovsd'] = X_train['km_ovsd'].astype('int')\n",
    "# X_test['km_ovsd'] = X_test['km_ovsd'].astype('int')"
   ]
  },
  {
   "cell_type": "code",
   "execution_count": 230,
   "metadata": {},
   "outputs": [],
   "source": [
    "vars_ok = ['dia', 'mes', 'km_ovsd', 't_media', 'v_media_viento', 'presion_media',\n",
    "       'cantidad_de_lluvia_mm', 'nubosidad_perc', 'temporada_alta', 'atraso_15'] \n",
    "train = train[vars_ok].copy()\n",
    "test = test[vars_ok].copy()"
   ]
  },
  {
   "cell_type": "code",
   "execution_count": 231,
   "metadata": {},
   "outputs": [
    {
     "data": {
      "text/html": [
       "<div>\n",
       "<style scoped>\n",
       "    .dataframe tbody tr th:only-of-type {\n",
       "        vertical-align: middle;\n",
       "    }\n",
       "\n",
       "    .dataframe tbody tr th {\n",
       "        vertical-align: top;\n",
       "    }\n",
       "\n",
       "    .dataframe thead th {\n",
       "        text-align: right;\n",
       "    }\n",
       "</style>\n",
       "<table border=\"1\" class=\"dataframe\">\n",
       "  <thead>\n",
       "    <tr style=\"text-align: right;\">\n",
       "      <th></th>\n",
       "      <th>dia</th>\n",
       "      <th>mes</th>\n",
       "      <th>km_ovsd</th>\n",
       "      <th>t_media</th>\n",
       "      <th>v_media_viento</th>\n",
       "      <th>presion_media</th>\n",
       "      <th>cantidad_de_lluvia_mm</th>\n",
       "      <th>nubosidad_perc</th>\n",
       "      <th>temporada_alta</th>\n",
       "      <th>atraso_15</th>\n",
       "    </tr>\n",
       "  </thead>\n",
       "  <tbody>\n",
       "    <tr>\n",
       "      <th>3762</th>\n",
       "      <td>16</td>\n",
       "      <td>9</td>\n",
       "      <td>1086.84</td>\n",
       "      <td>21.0</td>\n",
       "      <td>6.1</td>\n",
       "      <td>1015.5</td>\n",
       "      <td>13.7</td>\n",
       "      <td>53.5</td>\n",
       "      <td>1</td>\n",
       "      <td>0</td>\n",
       "    </tr>\n",
       "    <tr>\n",
       "      <th>64209</th>\n",
       "      <td>9</td>\n",
       "      <td>12</td>\n",
       "      <td>2595.13</td>\n",
       "      <td>NaN</td>\n",
       "      <td>NaN</td>\n",
       "      <td>NaN</td>\n",
       "      <td>1.5</td>\n",
       "      <td>27.5</td>\n",
       "      <td>0</td>\n",
       "      <td>0</td>\n",
       "    </tr>\n",
       "  </tbody>\n",
       "</table>\n",
       "</div>"
      ],
      "text/plain": [
       "       dia  mes  km_ovsd  t_media  v_media_viento  presion_media  \\\n",
       "3762    16    9  1086.84     21.0             6.1         1015.5   \n",
       "64209    9   12  2595.13      NaN             NaN            NaN   \n",
       "\n",
       "       cantidad_de_lluvia_mm  nubosidad_perc  temporada_alta  atraso_15  \n",
       "3762                    13.7            53.5               1          0  \n",
       "64209                    1.5            27.5               0          0  "
      ]
     },
     "execution_count": 231,
     "metadata": {},
     "output_type": "execute_result"
    }
   ],
   "source": [
    "train.head(2)"
   ]
  },
  {
   "cell_type": "code",
   "execution_count": 232,
   "metadata": {},
   "outputs": [
    {
     "data": {
      "text/plain": [
       "pandas.core.frame.DataFrame"
      ]
     },
     "execution_count": 232,
     "metadata": {},
     "output_type": "execute_result"
    }
   ],
   "source": [
    "type(train)"
   ]
  },
  {
   "cell_type": "code",
   "execution_count": 233,
   "metadata": {},
   "outputs": [
    {
     "data": {
      "text/plain": [
       "dia                      float64\n",
       "mes                      float64\n",
       "km_ovsd                  float64\n",
       "t_media                  float64\n",
       "v_media_viento           float64\n",
       "presion_media            float64\n",
       "cantidad_de_lluvia_mm    float64\n",
       "nubosidad_perc           float64\n",
       "temporada_alta           float64\n",
       "atraso_15                float64\n",
       "dtype: object"
      ]
     },
     "execution_count": 233,
     "metadata": {},
     "output_type": "execute_result"
    }
   ],
   "source": [
    "# pasamos todo a float en train\n",
    "for col in train.columns:\n",
    "    train[col] = train[col].astype('float')\n",
    "train.dtypes"
   ]
  },
  {
   "cell_type": "code",
   "execution_count": 234,
   "metadata": {},
   "outputs": [
    {
     "data": {
      "text/plain": [
       "dia                      float64\n",
       "mes                      float64\n",
       "km_ovsd                  float64\n",
       "t_media                  float64\n",
       "v_media_viento           float64\n",
       "presion_media            float64\n",
       "cantidad_de_lluvia_mm    float64\n",
       "nubosidad_perc           float64\n",
       "temporada_alta           float64\n",
       "atraso_15                float64\n",
       "dtype: object"
      ]
     },
     "execution_count": 234,
     "metadata": {},
     "output_type": "execute_result"
    }
   ],
   "source": [
    "# pasamos todo a float en test\n",
    "for col in test.columns:\n",
    "    test[col] = test[col].astype('float')\n",
    "test.dtypes"
   ]
  },
  {
   "cell_type": "code",
   "execution_count": 235,
   "metadata": {},
   "outputs": [
    {
     "data": {
      "text/html": [
       "<div>\n",
       "<style scoped>\n",
       "    .dataframe tbody tr th:only-of-type {\n",
       "        vertical-align: middle;\n",
       "    }\n",
       "\n",
       "    .dataframe tbody tr th {\n",
       "        vertical-align: top;\n",
       "    }\n",
       "\n",
       "    .dataframe thead th {\n",
       "        text-align: right;\n",
       "    }\n",
       "</style>\n",
       "<table border=\"1\" class=\"dataframe\">\n",
       "  <thead>\n",
       "    <tr style=\"text-align: right;\">\n",
       "      <th></th>\n",
       "      <th>dia</th>\n",
       "      <th>mes</th>\n",
       "      <th>km_ovsd</th>\n",
       "      <th>t_media</th>\n",
       "      <th>v_media_viento</th>\n",
       "      <th>presion_media</th>\n",
       "      <th>cantidad_de_lluvia_mm</th>\n",
       "      <th>nubosidad_perc</th>\n",
       "      <th>temporada_alta</th>\n",
       "      <th>atraso_15</th>\n",
       "    </tr>\n",
       "  </thead>\n",
       "  <tbody>\n",
       "    <tr>\n",
       "      <th>27320</th>\n",
       "      <td>22.0</td>\n",
       "      <td>5.0</td>\n",
       "      <td>440.52</td>\n",
       "      <td>11.0</td>\n",
       "      <td>3.0</td>\n",
       "      <td>1016.2</td>\n",
       "      <td>38.2</td>\n",
       "      <td>52.4</td>\n",
       "      <td>0.0</td>\n",
       "      <td>0.0</td>\n",
       "    </tr>\n",
       "    <tr>\n",
       "      <th>57460</th>\n",
       "      <td>3.0</td>\n",
       "      <td>5.0</td>\n",
       "      <td>2194.86</td>\n",
       "      <td>18.0</td>\n",
       "      <td>4.3</td>\n",
       "      <td>1016.7</td>\n",
       "      <td>38.2</td>\n",
       "      <td>52.4</td>\n",
       "      <td>0.0</td>\n",
       "      <td>1.0</td>\n",
       "    </tr>\n",
       "    <tr>\n",
       "      <th>54916</th>\n",
       "      <td>10.0</td>\n",
       "      <td>8.0</td>\n",
       "      <td>918.82</td>\n",
       "      <td>10.0</td>\n",
       "      <td>5.8</td>\n",
       "      <td>1016.6</td>\n",
       "      <td>21.8</td>\n",
       "      <td>57.6</td>\n",
       "      <td>0.0</td>\n",
       "      <td>0.0</td>\n",
       "    </tr>\n",
       "    <tr>\n",
       "      <th>34252</th>\n",
       "      <td>13.0</td>\n",
       "      <td>1.0</td>\n",
       "      <td>1468.94</td>\n",
       "      <td>30.0</td>\n",
       "      <td>9.5</td>\n",
       "      <td>1014.2</td>\n",
       "      <td>0.0</td>\n",
       "      <td>17.6</td>\n",
       "      <td>1.0</td>\n",
       "      <td>1.0</td>\n",
       "    </tr>\n",
       "    <tr>\n",
       "      <th>13524</th>\n",
       "      <td>26.0</td>\n",
       "      <td>4.0</td>\n",
       "      <td>1124.93</td>\n",
       "      <td>15.0</td>\n",
       "      <td>4.5</td>\n",
       "      <td>1020.4</td>\n",
       "      <td>3.9</td>\n",
       "      <td>27.4</td>\n",
       "      <td>0.0</td>\n",
       "      <td>0.0</td>\n",
       "    </tr>\n",
       "    <tr>\n",
       "      <th>...</th>\n",
       "      <td>...</td>\n",
       "      <td>...</td>\n",
       "      <td>...</td>\n",
       "      <td>...</td>\n",
       "      <td>...</td>\n",
       "      <td>...</td>\n",
       "      <td>...</td>\n",
       "      <td>...</td>\n",
       "      <td>...</td>\n",
       "      <td>...</td>\n",
       "    </tr>\n",
       "    <tr>\n",
       "      <th>52356</th>\n",
       "      <td>21.0</td>\n",
       "      <td>1.0</td>\n",
       "      <td>918.82</td>\n",
       "      <td>28.0</td>\n",
       "      <td>7.7</td>\n",
       "      <td>1013.9</td>\n",
       "      <td>0.0</td>\n",
       "      <td>17.6</td>\n",
       "      <td>1.0</td>\n",
       "      <td>0.0</td>\n",
       "    </tr>\n",
       "    <tr>\n",
       "      <th>47513</th>\n",
       "      <td>31.0</td>\n",
       "      <td>1.0</td>\n",
       "      <td>172.47</td>\n",
       "      <td>27.0</td>\n",
       "      <td>8.5</td>\n",
       "      <td>1014.1</td>\n",
       "      <td>0.0</td>\n",
       "      <td>17.6</td>\n",
       "      <td>1.0</td>\n",
       "      <td>0.0</td>\n",
       "    </tr>\n",
       "    <tr>\n",
       "      <th>21109</th>\n",
       "      <td>21.0</td>\n",
       "      <td>8.0</td>\n",
       "      <td>1229.56</td>\n",
       "      <td>18.0</td>\n",
       "      <td>5.9</td>\n",
       "      <td>1014.8</td>\n",
       "      <td>21.8</td>\n",
       "      <td>57.6</td>\n",
       "      <td>0.0</td>\n",
       "      <td>0.0</td>\n",
       "    </tr>\n",
       "    <tr>\n",
       "      <th>45425</th>\n",
       "      <td>24.0</td>\n",
       "      <td>11.0</td>\n",
       "      <td>2466.62</td>\n",
       "      <td>NaN</td>\n",
       "      <td>NaN</td>\n",
       "      <td>NaN</td>\n",
       "      <td>2.0</td>\n",
       "      <td>29.7</td>\n",
       "      <td>0.0</td>\n",
       "      <td>0.0</td>\n",
       "    </tr>\n",
       "    <tr>\n",
       "      <th>67888</th>\n",
       "      <td>7.0</td>\n",
       "      <td>7.0</td>\n",
       "      <td>749.47</td>\n",
       "      <td>14.0</td>\n",
       "      <td>2.7</td>\n",
       "      <td>1020.8</td>\n",
       "      <td>56.8</td>\n",
       "      <td>59.9</td>\n",
       "      <td>0.0</td>\n",
       "      <td>0.0</td>\n",
       "    </tr>\n",
       "  </tbody>\n",
       "</table>\n",
       "<p>20462 rows × 10 columns</p>\n",
       "</div>"
      ],
      "text/plain": [
       "        dia   mes  km_ovsd  t_media  v_media_viento  presion_media  \\\n",
       "27320  22.0   5.0   440.52     11.0             3.0         1016.2   \n",
       "57460   3.0   5.0  2194.86     18.0             4.3         1016.7   \n",
       "54916  10.0   8.0   918.82     10.0             5.8         1016.6   \n",
       "34252  13.0   1.0  1468.94     30.0             9.5         1014.2   \n",
       "13524  26.0   4.0  1124.93     15.0             4.5         1020.4   \n",
       "...     ...   ...      ...      ...             ...            ...   \n",
       "52356  21.0   1.0   918.82     28.0             7.7         1013.9   \n",
       "47513  31.0   1.0   172.47     27.0             8.5         1014.1   \n",
       "21109  21.0   8.0  1229.56     18.0             5.9         1014.8   \n",
       "45425  24.0  11.0  2466.62      NaN             NaN            NaN   \n",
       "67888   7.0   7.0   749.47     14.0             2.7         1020.8   \n",
       "\n",
       "       cantidad_de_lluvia_mm  nubosidad_perc  temporada_alta  atraso_15  \n",
       "27320                   38.2            52.4             0.0        0.0  \n",
       "57460                   38.2            52.4             0.0        1.0  \n",
       "54916                   21.8            57.6             0.0        0.0  \n",
       "34252                    0.0            17.6             1.0        1.0  \n",
       "13524                    3.9            27.4             0.0        0.0  \n",
       "...                      ...             ...             ...        ...  \n",
       "52356                    0.0            17.6             1.0        0.0  \n",
       "47513                    0.0            17.6             1.0        0.0  \n",
       "21109                   21.8            57.6             0.0        0.0  \n",
       "45425                    2.0            29.7             0.0        0.0  \n",
       "67888                   56.8            59.9             0.0        0.0  \n",
       "\n",
       "[20462 rows x 10 columns]"
      ]
     },
     "execution_count": 235,
     "metadata": {},
     "output_type": "execute_result"
    }
   ],
   "source": [
    "test"
   ]
  },
  {
   "cell_type": "code",
   "execution_count": 236,
   "metadata": {},
   "outputs": [
    {
     "name": "stderr",
     "output_type": "stream",
     "text": [
      "/var/folders/lh/lp38lfv52zb_kgpv2bg7f_3c0000gn/T/ipykernel_53093/537266046.py:2: FutureWarning: In a future version of pandas all arguments of DataFrame.drop except for the argument 'labels' will be keyword-only.\n",
      "  X_train = train.drop('atraso_15',1).copy()\n",
      "/var/folders/lh/lp38lfv52zb_kgpv2bg7f_3c0000gn/T/ipykernel_53093/537266046.py:5: FutureWarning: In a future version of pandas all arguments of DataFrame.drop except for the argument 'labels' will be keyword-only.\n",
      "  X_test = test.drop('atraso_15',1).copy()\n"
     ]
    }
   ],
   "source": [
    "# X & y\n",
    "X_train = train.drop('atraso_15',1).copy()\n",
    "y_train = train[['atraso_15']].copy()\n",
    "\n",
    "X_test = test.drop('atraso_15',1).copy()\n",
    "y_test = test[['atraso_15']].copy()"
   ]
  },
  {
   "cell_type": "code",
   "execution_count": 237,
   "metadata": {},
   "outputs": [],
   "source": [
    "# Define the under-sampling strategy\n",
    "undersample = RandomUnderSampler(sampling_strategy='auto', random_state=42)\n",
    "\n",
    "# Apply the under-sampling strategy to the training data\n",
    "X_train_resampled, y_train_resampled = undersample.fit_resample(X_train, y_train)"
   ]
  },
  {
   "cell_type": "code",
   "execution_count": 238,
   "metadata": {},
   "outputs": [
    {
     "data": {
      "text/plain": [
       "((17662, 9), (17662, 1))"
      ]
     },
     "execution_count": 238,
     "metadata": {},
     "output_type": "execute_result"
    }
   ],
   "source": [
    "X_train_resampled.shape, y_train_resampled.shape"
   ]
  },
  {
   "cell_type": "code",
   "execution_count": 264,
   "metadata": {},
   "outputs": [
    {
     "data": {
      "text/html": [
       "<div>\n",
       "<style scoped>\n",
       "    .dataframe tbody tr th:only-of-type {\n",
       "        vertical-align: middle;\n",
       "    }\n",
       "\n",
       "    .dataframe tbody tr th {\n",
       "        vertical-align: top;\n",
       "    }\n",
       "\n",
       "    .dataframe thead th {\n",
       "        text-align: right;\n",
       "    }\n",
       "</style>\n",
       "<table border=\"1\" class=\"dataframe\">\n",
       "  <thead>\n",
       "    <tr style=\"text-align: right;\">\n",
       "      <th></th>\n",
       "      <th>dia</th>\n",
       "      <th>mes</th>\n",
       "      <th>km_ovsd</th>\n",
       "      <th>t_media</th>\n",
       "      <th>v_media_viento</th>\n",
       "      <th>presion_media</th>\n",
       "      <th>cantidad_de_lluvia_mm</th>\n",
       "      <th>nubosidad_perc</th>\n",
       "      <th>temporada_alta</th>\n",
       "    </tr>\n",
       "  </thead>\n",
       "  <tbody>\n",
       "    <tr>\n",
       "      <th>3762</th>\n",
       "      <td>16.0</td>\n",
       "      <td>9.0</td>\n",
       "      <td>1086.84</td>\n",
       "      <td>21.0</td>\n",
       "      <td>6.1</td>\n",
       "      <td>1015.5</td>\n",
       "      <td>13.7</td>\n",
       "      <td>53.5</td>\n",
       "      <td>1.0</td>\n",
       "    </tr>\n",
       "    <tr>\n",
       "      <th>64209</th>\n",
       "      <td>9.0</td>\n",
       "      <td>12.0</td>\n",
       "      <td>2595.13</td>\n",
       "      <td>NaN</td>\n",
       "      <td>NaN</td>\n",
       "      <td>NaN</td>\n",
       "      <td>1.5</td>\n",
       "      <td>27.5</td>\n",
       "      <td>0.0</td>\n",
       "    </tr>\n",
       "    <tr>\n",
       "      <th>15502</th>\n",
       "      <td>26.0</td>\n",
       "      <td>8.0</td>\n",
       "      <td>1124.93</td>\n",
       "      <td>11.0</td>\n",
       "      <td>5.3</td>\n",
       "      <td>1019.7</td>\n",
       "      <td>21.8</td>\n",
       "      <td>57.6</td>\n",
       "      <td>0.0</td>\n",
       "    </tr>\n",
       "    <tr>\n",
       "      <th>26174</th>\n",
       "      <td>10.0</td>\n",
       "      <td>1.0</td>\n",
       "      <td>440.52</td>\n",
       "      <td>25.0</td>\n",
       "      <td>10.1</td>\n",
       "      <td>1014.7</td>\n",
       "      <td>0.0</td>\n",
       "      <td>17.6</td>\n",
       "      <td>1.0</td>\n",
       "    </tr>\n",
       "    <tr>\n",
       "      <th>10325</th>\n",
       "      <td>3.0</td>\n",
       "      <td>3.0</td>\n",
       "      <td>4252.23</td>\n",
       "      <td>22.0</td>\n",
       "      <td>6.6</td>\n",
       "      <td>1014.2</td>\n",
       "      <td>1.6</td>\n",
       "      <td>16.4</td>\n",
       "      <td>0.0</td>\n",
       "    </tr>\n",
       "    <tr>\n",
       "      <th>...</th>\n",
       "      <td>...</td>\n",
       "      <td>...</td>\n",
       "      <td>...</td>\n",
       "      <td>...</td>\n",
       "      <td>...</td>\n",
       "      <td>...</td>\n",
       "      <td>...</td>\n",
       "      <td>...</td>\n",
       "      <td>...</td>\n",
       "    </tr>\n",
       "    <tr>\n",
       "      <th>37194</th>\n",
       "      <td>1.0</td>\n",
       "      <td>11.0</td>\n",
       "      <td>1468.94</td>\n",
       "      <td>14.0</td>\n",
       "      <td>3.6</td>\n",
       "      <td>1016.6</td>\n",
       "      <td>2.0</td>\n",
       "      <td>29.7</td>\n",
       "      <td>0.0</td>\n",
       "    </tr>\n",
       "    <tr>\n",
       "      <th>6265</th>\n",
       "      <td>22.0</td>\n",
       "      <td>3.0</td>\n",
       "      <td>1662.19</td>\n",
       "      <td>22.0</td>\n",
       "      <td>6.6</td>\n",
       "      <td>1015.6</td>\n",
       "      <td>1.6</td>\n",
       "      <td>16.4</td>\n",
       "      <td>0.0</td>\n",
       "    </tr>\n",
       "    <tr>\n",
       "      <th>54886</th>\n",
       "      <td>27.0</td>\n",
       "      <td>8.0</td>\n",
       "      <td>918.82</td>\n",
       "      <td>12.0</td>\n",
       "      <td>7.7</td>\n",
       "      <td>1017.8</td>\n",
       "      <td>21.8</td>\n",
       "      <td>57.6</td>\n",
       "      <td>0.0</td>\n",
       "    </tr>\n",
       "    <tr>\n",
       "      <th>860</th>\n",
       "      <td>24.0</td>\n",
       "      <td>2.0</td>\n",
       "      <td>1086.84</td>\n",
       "      <td>27.0</td>\n",
       "      <td>8.2</td>\n",
       "      <td>1014.3</td>\n",
       "      <td>0.0</td>\n",
       "      <td>9.7</td>\n",
       "      <td>1.0</td>\n",
       "    </tr>\n",
       "    <tr>\n",
       "      <th>15795</th>\n",
       "      <td>23.0</td>\n",
       "      <td>8.0</td>\n",
       "      <td>1124.93</td>\n",
       "      <td>12.0</td>\n",
       "      <td>6.5</td>\n",
       "      <td>1018.1</td>\n",
       "      <td>21.8</td>\n",
       "      <td>57.6</td>\n",
       "      <td>0.0</td>\n",
       "    </tr>\n",
       "  </tbody>\n",
       "</table>\n",
       "<p>47744 rows × 9 columns</p>\n",
       "</div>"
      ],
      "text/plain": [
       "        dia   mes  km_ovsd  t_media  v_media_viento  presion_media  \\\n",
       "3762   16.0   9.0  1086.84     21.0             6.1         1015.5   \n",
       "64209   9.0  12.0  2595.13      NaN             NaN            NaN   \n",
       "15502  26.0   8.0  1124.93     11.0             5.3         1019.7   \n",
       "26174  10.0   1.0   440.52     25.0            10.1         1014.7   \n",
       "10325   3.0   3.0  4252.23     22.0             6.6         1014.2   \n",
       "...     ...   ...      ...      ...             ...            ...   \n",
       "37194   1.0  11.0  1468.94     14.0             3.6         1016.6   \n",
       "6265   22.0   3.0  1662.19     22.0             6.6         1015.6   \n",
       "54886  27.0   8.0   918.82     12.0             7.7         1017.8   \n",
       "860    24.0   2.0  1086.84     27.0             8.2         1014.3   \n",
       "15795  23.0   8.0  1124.93     12.0             6.5         1018.1   \n",
       "\n",
       "       cantidad_de_lluvia_mm  nubosidad_perc  temporada_alta  \n",
       "3762                    13.7            53.5             1.0  \n",
       "64209                    1.5            27.5             0.0  \n",
       "15502                   21.8            57.6             0.0  \n",
       "26174                    0.0            17.6             1.0  \n",
       "10325                    1.6            16.4             0.0  \n",
       "...                      ...             ...             ...  \n",
       "37194                    2.0            29.7             0.0  \n",
       "6265                     1.6            16.4             0.0  \n",
       "54886                   21.8            57.6             0.0  \n",
       "860                      0.0             9.7             1.0  \n",
       "15795                   21.8            57.6             0.0  \n",
       "\n",
       "[47744 rows x 9 columns]"
      ]
     },
     "execution_count": 264,
     "metadata": {},
     "output_type": "execute_result"
    }
   ],
   "source": [
    "X_train"
   ]
  },
  {
   "cell_type": "code",
   "execution_count": 265,
   "metadata": {},
   "outputs": [
    {
     "data": {
      "text/html": [
       "<div>\n",
       "<style scoped>\n",
       "    .dataframe tbody tr th:only-of-type {\n",
       "        vertical-align: middle;\n",
       "    }\n",
       "\n",
       "    .dataframe tbody tr th {\n",
       "        vertical-align: top;\n",
       "    }\n",
       "\n",
       "    .dataframe thead th {\n",
       "        text-align: right;\n",
       "    }\n",
       "</style>\n",
       "<table border=\"1\" class=\"dataframe\">\n",
       "  <thead>\n",
       "    <tr style=\"text-align: right;\">\n",
       "      <th></th>\n",
       "      <th>dia</th>\n",
       "      <th>mes</th>\n",
       "      <th>km_ovsd</th>\n",
       "      <th>t_media</th>\n",
       "      <th>v_media_viento</th>\n",
       "      <th>presion_media</th>\n",
       "      <th>cantidad_de_lluvia_mm</th>\n",
       "      <th>nubosidad_perc</th>\n",
       "      <th>temporada_alta</th>\n",
       "    </tr>\n",
       "  </thead>\n",
       "  <tbody>\n",
       "    <tr>\n",
       "      <th>0</th>\n",
       "      <td>4.0</td>\n",
       "      <td>7.0</td>\n",
       "      <td>2466.62</td>\n",
       "      <td>8.0</td>\n",
       "      <td>9.1</td>\n",
       "      <td>1022.0</td>\n",
       "      <td>56.8</td>\n",
       "      <td>59.9</td>\n",
       "      <td>0.0</td>\n",
       "    </tr>\n",
       "    <tr>\n",
       "      <th>1</th>\n",
       "      <td>25.0</td>\n",
       "      <td>9.0</td>\n",
       "      <td>1086.84</td>\n",
       "      <td>18.0</td>\n",
       "      <td>6.0</td>\n",
       "      <td>1019.4</td>\n",
       "      <td>13.7</td>\n",
       "      <td>53.5</td>\n",
       "      <td>1.0</td>\n",
       "    </tr>\n",
       "    <tr>\n",
       "      <th>2</th>\n",
       "      <td>16.0</td>\n",
       "      <td>1.0</td>\n",
       "      <td>918.82</td>\n",
       "      <td>26.0</td>\n",
       "      <td>9.1</td>\n",
       "      <td>1016.0</td>\n",
       "      <td>0.0</td>\n",
       "      <td>17.6</td>\n",
       "      <td>1.0</td>\n",
       "    </tr>\n",
       "    <tr>\n",
       "      <th>3</th>\n",
       "      <td>13.0</td>\n",
       "      <td>1.0</td>\n",
       "      <td>1229.56</td>\n",
       "      <td>30.0</td>\n",
       "      <td>9.5</td>\n",
       "      <td>1014.2</td>\n",
       "      <td>0.0</td>\n",
       "      <td>17.6</td>\n",
       "      <td>1.0</td>\n",
       "    </tr>\n",
       "    <tr>\n",
       "      <th>4</th>\n",
       "      <td>26.0</td>\n",
       "      <td>8.0</td>\n",
       "      <td>172.47</td>\n",
       "      <td>11.0</td>\n",
       "      <td>5.3</td>\n",
       "      <td>1019.7</td>\n",
       "      <td>21.8</td>\n",
       "      <td>57.6</td>\n",
       "      <td>0.0</td>\n",
       "    </tr>\n",
       "    <tr>\n",
       "      <th>...</th>\n",
       "      <td>...</td>\n",
       "      <td>...</td>\n",
       "      <td>...</td>\n",
       "      <td>...</td>\n",
       "      <td>...</td>\n",
       "      <td>...</td>\n",
       "      <td>...</td>\n",
       "      <td>...</td>\n",
       "      <td>...</td>\n",
       "    </tr>\n",
       "    <tr>\n",
       "      <th>17657</th>\n",
       "      <td>19.0</td>\n",
       "      <td>9.0</td>\n",
       "      <td>172.47</td>\n",
       "      <td>11.0</td>\n",
       "      <td>5.6</td>\n",
       "      <td>1020.8</td>\n",
       "      <td>13.7</td>\n",
       "      <td>53.5</td>\n",
       "      <td>1.0</td>\n",
       "    </tr>\n",
       "    <tr>\n",
       "      <th>17658</th>\n",
       "      <td>8.0</td>\n",
       "      <td>5.0</td>\n",
       "      <td>2466.62</td>\n",
       "      <td>15.0</td>\n",
       "      <td>3.7</td>\n",
       "      <td>1017.9</td>\n",
       "      <td>38.2</td>\n",
       "      <td>52.4</td>\n",
       "      <td>0.0</td>\n",
       "    </tr>\n",
       "    <tr>\n",
       "      <th>17659</th>\n",
       "      <td>1.0</td>\n",
       "      <td>11.0</td>\n",
       "      <td>4252.23</td>\n",
       "      <td>14.0</td>\n",
       "      <td>3.6</td>\n",
       "      <td>1016.6</td>\n",
       "      <td>2.0</td>\n",
       "      <td>29.7</td>\n",
       "      <td>0.0</td>\n",
       "    </tr>\n",
       "    <tr>\n",
       "      <th>17660</th>\n",
       "      <td>4.0</td>\n",
       "      <td>12.0</td>\n",
       "      <td>895.71</td>\n",
       "      <td>NaN</td>\n",
       "      <td>NaN</td>\n",
       "      <td>NaN</td>\n",
       "      <td>1.5</td>\n",
       "      <td>27.5</td>\n",
       "      <td>0.0</td>\n",
       "    </tr>\n",
       "    <tr>\n",
       "      <th>17661</th>\n",
       "      <td>29.0</td>\n",
       "      <td>12.0</td>\n",
       "      <td>1086.84</td>\n",
       "      <td>NaN</td>\n",
       "      <td>NaN</td>\n",
       "      <td>NaN</td>\n",
       "      <td>1.5</td>\n",
       "      <td>27.5</td>\n",
       "      <td>1.0</td>\n",
       "    </tr>\n",
       "  </tbody>\n",
       "</table>\n",
       "<p>17662 rows × 9 columns</p>\n",
       "</div>"
      ],
      "text/plain": [
       "        dia   mes  km_ovsd  t_media  v_media_viento  presion_media  \\\n",
       "0       4.0   7.0  2466.62      8.0             9.1         1022.0   \n",
       "1      25.0   9.0  1086.84     18.0             6.0         1019.4   \n",
       "2      16.0   1.0   918.82     26.0             9.1         1016.0   \n",
       "3      13.0   1.0  1229.56     30.0             9.5         1014.2   \n",
       "4      26.0   8.0   172.47     11.0             5.3         1019.7   \n",
       "...     ...   ...      ...      ...             ...            ...   \n",
       "17657  19.0   9.0   172.47     11.0             5.6         1020.8   \n",
       "17658   8.0   5.0  2466.62     15.0             3.7         1017.9   \n",
       "17659   1.0  11.0  4252.23     14.0             3.6         1016.6   \n",
       "17660   4.0  12.0   895.71      NaN             NaN            NaN   \n",
       "17661  29.0  12.0  1086.84      NaN             NaN            NaN   \n",
       "\n",
       "       cantidad_de_lluvia_mm  nubosidad_perc  temporada_alta  \n",
       "0                       56.8            59.9             0.0  \n",
       "1                       13.7            53.5             1.0  \n",
       "2                        0.0            17.6             1.0  \n",
       "3                        0.0            17.6             1.0  \n",
       "4                       21.8            57.6             0.0  \n",
       "...                      ...             ...             ...  \n",
       "17657                   13.7            53.5             1.0  \n",
       "17658                   38.2            52.4             0.0  \n",
       "17659                    2.0            29.7             0.0  \n",
       "17660                    1.5            27.5             0.0  \n",
       "17661                    1.5            27.5             1.0  \n",
       "\n",
       "[17662 rows x 9 columns]"
      ]
     },
     "execution_count": 265,
     "metadata": {},
     "output_type": "execute_result"
    }
   ],
   "source": [
    "X_train_resampled"
   ]
  },
  {
   "cell_type": "code",
   "execution_count": 266,
   "metadata": {},
   "outputs": [
    {
     "data": {
      "text/html": [
       "<div>\n",
       "<style scoped>\n",
       "    .dataframe tbody tr th:only-of-type {\n",
       "        vertical-align: middle;\n",
       "    }\n",
       "\n",
       "    .dataframe tbody tr th {\n",
       "        vertical-align: top;\n",
       "    }\n",
       "\n",
       "    .dataframe thead th {\n",
       "        text-align: right;\n",
       "    }\n",
       "</style>\n",
       "<table border=\"1\" class=\"dataframe\">\n",
       "  <thead>\n",
       "    <tr style=\"text-align: right;\">\n",
       "      <th></th>\n",
       "      <th>dia</th>\n",
       "      <th>mes</th>\n",
       "      <th>km_ovsd</th>\n",
       "      <th>t_media</th>\n",
       "      <th>v_media_viento</th>\n",
       "      <th>presion_media</th>\n",
       "      <th>cantidad_de_lluvia_mm</th>\n",
       "      <th>nubosidad_perc</th>\n",
       "      <th>temporada_alta</th>\n",
       "    </tr>\n",
       "  </thead>\n",
       "  <tbody>\n",
       "    <tr>\n",
       "      <th>27320</th>\n",
       "      <td>22.0</td>\n",
       "      <td>5.0</td>\n",
       "      <td>440.52</td>\n",
       "      <td>11.0</td>\n",
       "      <td>3.0</td>\n",
       "      <td>1016.2</td>\n",
       "      <td>38.2</td>\n",
       "      <td>52.4</td>\n",
       "      <td>0.0</td>\n",
       "    </tr>\n",
       "    <tr>\n",
       "      <th>57460</th>\n",
       "      <td>3.0</td>\n",
       "      <td>5.0</td>\n",
       "      <td>2194.86</td>\n",
       "      <td>18.0</td>\n",
       "      <td>4.3</td>\n",
       "      <td>1016.7</td>\n",
       "      <td>38.2</td>\n",
       "      <td>52.4</td>\n",
       "      <td>0.0</td>\n",
       "    </tr>\n",
       "    <tr>\n",
       "      <th>54916</th>\n",
       "      <td>10.0</td>\n",
       "      <td>8.0</td>\n",
       "      <td>918.82</td>\n",
       "      <td>10.0</td>\n",
       "      <td>5.8</td>\n",
       "      <td>1016.6</td>\n",
       "      <td>21.8</td>\n",
       "      <td>57.6</td>\n",
       "      <td>0.0</td>\n",
       "    </tr>\n",
       "    <tr>\n",
       "      <th>34252</th>\n",
       "      <td>13.0</td>\n",
       "      <td>1.0</td>\n",
       "      <td>1468.94</td>\n",
       "      <td>30.0</td>\n",
       "      <td>9.5</td>\n",
       "      <td>1014.2</td>\n",
       "      <td>0.0</td>\n",
       "      <td>17.6</td>\n",
       "      <td>1.0</td>\n",
       "    </tr>\n",
       "    <tr>\n",
       "      <th>13524</th>\n",
       "      <td>26.0</td>\n",
       "      <td>4.0</td>\n",
       "      <td>1124.93</td>\n",
       "      <td>15.0</td>\n",
       "      <td>4.5</td>\n",
       "      <td>1020.4</td>\n",
       "      <td>3.9</td>\n",
       "      <td>27.4</td>\n",
       "      <td>0.0</td>\n",
       "    </tr>\n",
       "    <tr>\n",
       "      <th>...</th>\n",
       "      <td>...</td>\n",
       "      <td>...</td>\n",
       "      <td>...</td>\n",
       "      <td>...</td>\n",
       "      <td>...</td>\n",
       "      <td>...</td>\n",
       "      <td>...</td>\n",
       "      <td>...</td>\n",
       "      <td>...</td>\n",
       "    </tr>\n",
       "    <tr>\n",
       "      <th>52356</th>\n",
       "      <td>21.0</td>\n",
       "      <td>1.0</td>\n",
       "      <td>918.82</td>\n",
       "      <td>28.0</td>\n",
       "      <td>7.7</td>\n",
       "      <td>1013.9</td>\n",
       "      <td>0.0</td>\n",
       "      <td>17.6</td>\n",
       "      <td>1.0</td>\n",
       "    </tr>\n",
       "    <tr>\n",
       "      <th>47513</th>\n",
       "      <td>31.0</td>\n",
       "      <td>1.0</td>\n",
       "      <td>172.47</td>\n",
       "      <td>27.0</td>\n",
       "      <td>8.5</td>\n",
       "      <td>1014.1</td>\n",
       "      <td>0.0</td>\n",
       "      <td>17.6</td>\n",
       "      <td>1.0</td>\n",
       "    </tr>\n",
       "    <tr>\n",
       "      <th>21109</th>\n",
       "      <td>21.0</td>\n",
       "      <td>8.0</td>\n",
       "      <td>1229.56</td>\n",
       "      <td>18.0</td>\n",
       "      <td>5.9</td>\n",
       "      <td>1014.8</td>\n",
       "      <td>21.8</td>\n",
       "      <td>57.6</td>\n",
       "      <td>0.0</td>\n",
       "    </tr>\n",
       "    <tr>\n",
       "      <th>45425</th>\n",
       "      <td>24.0</td>\n",
       "      <td>11.0</td>\n",
       "      <td>2466.62</td>\n",
       "      <td>NaN</td>\n",
       "      <td>NaN</td>\n",
       "      <td>NaN</td>\n",
       "      <td>2.0</td>\n",
       "      <td>29.7</td>\n",
       "      <td>0.0</td>\n",
       "    </tr>\n",
       "    <tr>\n",
       "      <th>67888</th>\n",
       "      <td>7.0</td>\n",
       "      <td>7.0</td>\n",
       "      <td>749.47</td>\n",
       "      <td>14.0</td>\n",
       "      <td>2.7</td>\n",
       "      <td>1020.8</td>\n",
       "      <td>56.8</td>\n",
       "      <td>59.9</td>\n",
       "      <td>0.0</td>\n",
       "    </tr>\n",
       "  </tbody>\n",
       "</table>\n",
       "<p>20462 rows × 9 columns</p>\n",
       "</div>"
      ],
      "text/plain": [
       "        dia   mes  km_ovsd  t_media  v_media_viento  presion_media  \\\n",
       "27320  22.0   5.0   440.52     11.0             3.0         1016.2   \n",
       "57460   3.0   5.0  2194.86     18.0             4.3         1016.7   \n",
       "54916  10.0   8.0   918.82     10.0             5.8         1016.6   \n",
       "34252  13.0   1.0  1468.94     30.0             9.5         1014.2   \n",
       "13524  26.0   4.0  1124.93     15.0             4.5         1020.4   \n",
       "...     ...   ...      ...      ...             ...            ...   \n",
       "52356  21.0   1.0   918.82     28.0             7.7         1013.9   \n",
       "47513  31.0   1.0   172.47     27.0             8.5         1014.1   \n",
       "21109  21.0   8.0  1229.56     18.0             5.9         1014.8   \n",
       "45425  24.0  11.0  2466.62      NaN             NaN            NaN   \n",
       "67888   7.0   7.0   749.47     14.0             2.7         1020.8   \n",
       "\n",
       "       cantidad_de_lluvia_mm  nubosidad_perc  temporada_alta  \n",
       "27320                   38.2            52.4             0.0  \n",
       "57460                   38.2            52.4             0.0  \n",
       "54916                   21.8            57.6             0.0  \n",
       "34252                    0.0            17.6             1.0  \n",
       "13524                    3.9            27.4             0.0  \n",
       "...                      ...             ...             ...  \n",
       "52356                    0.0            17.6             1.0  \n",
       "47513                    0.0            17.6             1.0  \n",
       "21109                   21.8            57.6             0.0  \n",
       "45425                    2.0            29.7             0.0  \n",
       "67888                   56.8            59.9             0.0  \n",
       "\n",
       "[20462 rows x 9 columns]"
      ]
     },
     "execution_count": 266,
     "metadata": {},
     "output_type": "execute_result"
    }
   ],
   "source": [
    "X_test"
   ]
  },
  {
   "cell_type": "code",
   "execution_count": 267,
   "metadata": {},
   "outputs": [
    {
     "data": {
      "text/plain": [
       "array([[2.20000e+01, 5.00000e+00, 4.40520e+02, ..., 3.82000e+01,\n",
       "        5.24000e+01, 0.00000e+00],\n",
       "       [3.00000e+00, 5.00000e+00, 2.19486e+03, ..., 3.82000e+01,\n",
       "        5.24000e+01, 0.00000e+00],\n",
       "       [1.00000e+01, 8.00000e+00, 9.18820e+02, ..., 2.18000e+01,\n",
       "        5.76000e+01, 0.00000e+00],\n",
       "       ...,\n",
       "       [2.10000e+01, 8.00000e+00, 1.22956e+03, ..., 2.18000e+01,\n",
       "        5.76000e+01, 0.00000e+00],\n",
       "       [2.40000e+01, 1.10000e+01, 2.46662e+03, ..., 2.00000e+00,\n",
       "        2.97000e+01, 0.00000e+00],\n",
       "       [7.00000e+00, 7.00000e+00, 7.49470e+02, ..., 5.68000e+01,\n",
       "        5.99000e+01, 0.00000e+00]])"
      ]
     },
     "execution_count": 267,
     "metadata": {},
     "output_type": "execute_result"
    }
   ],
   "source": [
    "X_test.to_numpy()"
   ]
  },
  {
   "cell_type": "code",
   "execution_count": 268,
   "metadata": {},
   "outputs": [
    {
     "data": {
      "text/plain": [
       "array([[4.00000e+00, 7.00000e+00, 2.46662e+03, ..., 5.68000e+01,\n",
       "        5.99000e+01, 0.00000e+00],\n",
       "       [2.50000e+01, 9.00000e+00, 1.08684e+03, ..., 1.37000e+01,\n",
       "        5.35000e+01, 1.00000e+00],\n",
       "       [1.60000e+01, 1.00000e+00, 9.18820e+02, ..., 0.00000e+00,\n",
       "        1.76000e+01, 1.00000e+00],\n",
       "       ...,\n",
       "       [1.00000e+00, 1.10000e+01, 4.25223e+03, ..., 2.00000e+00,\n",
       "        2.97000e+01, 0.00000e+00],\n",
       "       [4.00000e+00, 1.20000e+01, 8.95710e+02, ..., 1.50000e+00,\n",
       "        2.75000e+01, 0.00000e+00],\n",
       "       [2.90000e+01, 1.20000e+01, 1.08684e+03, ..., 1.50000e+00,\n",
       "        2.75000e+01, 1.00000e+00]])"
      ]
     },
     "metadata": {},
     "output_type": "display_data"
    },
    {
     "data": {
      "text/plain": [
       "(17662, 9)"
      ]
     },
     "metadata": {},
     "output_type": "display_data"
    },
    {
     "data": {
      "text/plain": [
       "2"
      ]
     },
     "metadata": {},
     "output_type": "display_data"
    }
   ],
   "source": [
    "X_train_nump = X_train_resampled.to_numpy().copy()\n",
    "X_test_nump = X_test.to_numpy().copy()\n",
    "display(X_train_nump)\n",
    "display(X_train_nump.shape, X_train_nump.ndim)"
   ]
  },
  {
   "cell_type": "code",
   "execution_count": 270,
   "metadata": {},
   "outputs": [
    {
     "data": {
      "text/plain": [
       "array([[2.20000e+01, 5.00000e+00, 4.40520e+02, ..., 3.82000e+01,\n",
       "        5.24000e+01, 0.00000e+00],\n",
       "       [3.00000e+00, 5.00000e+00, 2.19486e+03, ..., 3.82000e+01,\n",
       "        5.24000e+01, 0.00000e+00],\n",
       "       [1.00000e+01, 8.00000e+00, 9.18820e+02, ..., 2.18000e+01,\n",
       "        5.76000e+01, 0.00000e+00],\n",
       "       ...,\n",
       "       [2.10000e+01, 8.00000e+00, 1.22956e+03, ..., 2.18000e+01,\n",
       "        5.76000e+01, 0.00000e+00],\n",
       "       [2.40000e+01, 1.10000e+01, 2.46662e+03, ..., 2.00000e+00,\n",
       "        2.97000e+01, 0.00000e+00],\n",
       "       [7.00000e+00, 7.00000e+00, 7.49470e+02, ..., 5.68000e+01,\n",
       "        5.99000e+01, 0.00000e+00]])"
      ]
     },
     "execution_count": 270,
     "metadata": {},
     "output_type": "execute_result"
    }
   ],
   "source": [
    "X_test_nump"
   ]
  },
  {
   "cell_type": "code",
   "execution_count": 271,
   "metadata": {},
   "outputs": [],
   "source": [
    "# Iterate through each feature and compute its median, min and max values from the training set\n",
    "\n",
    "def preprocess(data, lst_vars):\n",
    "    \n",
    "    # Define a dictionary to store the median, min and max values for each feature\n",
    "    stats_dict = {}\n",
    "    \n",
    "    scaler = lambda x, f_min, f_max: (x - f_min) / (f_max - f_min)\n",
    "    \n",
    "    for i, feature in enumerate(lst_vars):\n",
    "        # Compute median of the feature from the training set\n",
    "        median = np.nanmedian(data[:, i])\n",
    "        \n",
    "        # Compute min and max of the feature from the training set\n",
    "        f_min = np.nanmin(data[:, i])\n",
    "        f_max = np.nanmax(data[:, i])\n",
    "        \n",
    "        # Add the computed values to the stats dictionary\n",
    "        stats_dict[feature] = {\"median\": median, \"min\": f_min, \"max\": f_max}\n",
    "        \n",
    "        # # Replace missing values with the computed median in both train and test sets\n",
    "        data[:, i] = np.where(np.isnan(data[:, i]), median, data[:, i])\n",
    "        data[:, i] = scaler(data[:, i], f_min, f_max)\n",
    "        # test_data[:, i] = np.where(np.isnan(test_data[:, i]), median, test_data[:, i])\n",
    "\n",
    "    return data, stats_dict"
   ]
  },
  {
   "cell_type": "code",
   "execution_count": 272,
   "metadata": {},
   "outputs": [
    {
     "data": {
      "text/plain": [
       "array([[4.00000e+00, 7.00000e+00, 2.46662e+03, ..., 5.68000e+01,\n",
       "        5.99000e+01, 0.00000e+00],\n",
       "       [2.50000e+01, 9.00000e+00, 1.08684e+03, ..., 1.37000e+01,\n",
       "        5.35000e+01, 1.00000e+00],\n",
       "       [1.60000e+01, 1.00000e+00, 9.18820e+02, ..., 0.00000e+00,\n",
       "        1.76000e+01, 1.00000e+00],\n",
       "       ...,\n",
       "       [1.00000e+00, 1.10000e+01, 4.25223e+03, ..., 2.00000e+00,\n",
       "        2.97000e+01, 0.00000e+00],\n",
       "       [4.00000e+00, 1.20000e+01, 8.95710e+02, ..., 1.50000e+00,\n",
       "        2.75000e+01, 0.00000e+00],\n",
       "       [2.90000e+01, 1.20000e+01, 1.08684e+03, ..., 1.50000e+00,\n",
       "        2.75000e+01, 1.00000e+00]])"
      ]
     },
     "execution_count": 272,
     "metadata": {},
     "output_type": "execute_result"
    }
   ],
   "source": [
    "X_train_nump"
   ]
  },
  {
   "cell_type": "code",
   "execution_count": 273,
   "metadata": {},
   "outputs": [],
   "source": [
    "lst_vars = ['dia', 'mes', 'km_ovsd', 't_media', 'v_media_viento', 'presion_media',\n",
    "       'cantidad_de_lluvia_mm', 'nubosidad_perc', 'temporada_alta']\n",
    "\n",
    "X_train_nump_proc, stats_dict = preprocess(X_train_nump, lst_vars)"
   ]
  },
  {
   "cell_type": "code",
   "execution_count": 274,
   "metadata": {},
   "outputs": [
    {
     "data": {
      "text/plain": [
       "array([[0.1       , 0.54545455, 0.19559322, ..., 0.68932039, 1.        ,\n",
       "        0.        ],\n",
       "       [0.8       , 0.72727273, 0.07795679, ..., 0.16626214, 0.87250996,\n",
       "        1.        ],\n",
       "       [0.5       , 0.        , 0.06363184, ..., 0.        , 0.15737052,\n",
       "        1.        ],\n",
       "       ...,\n",
       "       [0.        , 0.90909091, 0.34782965, ..., 0.02427184, 0.39840637,\n",
       "        0.        ],\n",
       "       [0.1       , 1.        , 0.06166155, ..., 0.01820388, 0.35458167,\n",
       "        0.        ],\n",
       "       [0.93333333, 1.        , 0.07795679, ..., 0.01820388, 0.35458167,\n",
       "        1.        ]])"
      ]
     },
     "execution_count": 274,
     "metadata": {},
     "output_type": "execute_result"
    }
   ],
   "source": [
    "X_train_nump_proc"
   ]
  },
  {
   "cell_type": "code",
   "execution_count": 275,
   "metadata": {},
   "outputs": [
    {
     "data": {
      "text/plain": [
       "{'dia': {'median': 15.0, 'min': 1.0, 'max': 31.0},\n",
       " 'mes': {'median': 7.0, 'min': 1.0, 'max': 12.0},\n",
       " 'km_ovsd': {'median': 1229.56, 'min': 172.47, 'max': 11901.66},\n",
       " 't_media': {'median': 16.0, 'min': 4.0, 'max': 30.0},\n",
       " 'v_media_viento': {'median': 6.2, 'min': 0.9, 'max': 13.9},\n",
       " 'presion_media': {'median': 1017.0, 'min': 1009.6, 'max': 1029.6},\n",
       " 'cantidad_de_lluvia_mm': {'median': 2.0, 'min': 0.0, 'max': 82.4},\n",
       " 'nubosidad_perc': {'median': 38.2, 'min': 9.7, 'max': 59.9},\n",
       " 'temporada_alta': {'median': 0.0, 'min': 0.0, 'max': 1.0}}"
      ]
     },
     "execution_count": 275,
     "metadata": {},
     "output_type": "execute_result"
    }
   ],
   "source": [
    "stats_dict"
   ]
  },
  {
   "cell_type": "code",
   "execution_count": 276,
   "metadata": {},
   "outputs": [
    {
     "data": {
      "text/html": [
       "<div>\n",
       "<style scoped>\n",
       "    .dataframe tbody tr th:only-of-type {\n",
       "        vertical-align: middle;\n",
       "    }\n",
       "\n",
       "    .dataframe tbody tr th {\n",
       "        vertical-align: top;\n",
       "    }\n",
       "\n",
       "    .dataframe thead th {\n",
       "        text-align: right;\n",
       "    }\n",
       "</style>\n",
       "<table border=\"1\" class=\"dataframe\">\n",
       "  <thead>\n",
       "    <tr style=\"text-align: right;\">\n",
       "      <th></th>\n",
       "      <th>dia</th>\n",
       "      <th>mes</th>\n",
       "      <th>km_ovsd</th>\n",
       "      <th>t_media</th>\n",
       "      <th>v_media_viento</th>\n",
       "      <th>presion_media</th>\n",
       "      <th>cantidad_de_lluvia_mm</th>\n",
       "      <th>nubosidad_perc</th>\n",
       "      <th>temporada_alta</th>\n",
       "    </tr>\n",
       "  </thead>\n",
       "  <tbody>\n",
       "    <tr>\n",
       "      <th>count</th>\n",
       "      <td>17662.000000</td>\n",
       "      <td>17662.00000</td>\n",
       "      <td>17662.000000</td>\n",
       "      <td>14749.000000</td>\n",
       "      <td>14749.000000</td>\n",
       "      <td>14749.000000</td>\n",
       "      <td>17662.000000</td>\n",
       "      <td>17662.000000</td>\n",
       "      <td>17662.000000</td>\n",
       "    </tr>\n",
       "    <tr>\n",
       "      <th>mean</th>\n",
       "      <td>15.655362</td>\n",
       "      <td>6.87827</td>\n",
       "      <td>2168.108333</td>\n",
       "      <td>17.017561</td>\n",
       "      <td>6.383294</td>\n",
       "      <td>1017.486657</td>\n",
       "      <td>18.471566</td>\n",
       "      <td>37.743608</td>\n",
       "      <td>0.330597</td>\n",
       "    </tr>\n",
       "    <tr>\n",
       "      <th>std</th>\n",
       "      <td>8.643520</td>\n",
       "      <td>3.51420</td>\n",
       "      <td>2367.441235</td>\n",
       "      <td>6.113554</td>\n",
       "      <td>2.163886</td>\n",
       "      <td>3.292857</td>\n",
       "      <td>25.535611</td>\n",
       "      <td>17.190177</td>\n",
       "      <td>0.470441</td>\n",
       "    </tr>\n",
       "    <tr>\n",
       "      <th>min</th>\n",
       "      <td>1.000000</td>\n",
       "      <td>1.00000</td>\n",
       "      <td>172.470000</td>\n",
       "      <td>4.000000</td>\n",
       "      <td>0.900000</td>\n",
       "      <td>1009.600000</td>\n",
       "      <td>0.000000</td>\n",
       "      <td>9.700000</td>\n",
       "      <td>0.000000</td>\n",
       "    </tr>\n",
       "    <tr>\n",
       "      <th>25%</th>\n",
       "      <td>8.000000</td>\n",
       "      <td>4.00000</td>\n",
       "      <td>918.820000</td>\n",
       "      <td>12.000000</td>\n",
       "      <td>4.700000</td>\n",
       "      <td>1015.000000</td>\n",
       "      <td>1.500000</td>\n",
       "      <td>27.400000</td>\n",
       "      <td>0.000000</td>\n",
       "    </tr>\n",
       "    <tr>\n",
       "      <th>50%</th>\n",
       "      <td>15.000000</td>\n",
       "      <td>7.00000</td>\n",
       "      <td>1229.560000</td>\n",
       "      <td>16.000000</td>\n",
       "      <td>6.200000</td>\n",
       "      <td>1017.000000</td>\n",
       "      <td>2.000000</td>\n",
       "      <td>38.200000</td>\n",
       "      <td>0.000000</td>\n",
       "    </tr>\n",
       "    <tr>\n",
       "      <th>75%</th>\n",
       "      <td>23.000000</td>\n",
       "      <td>10.00000</td>\n",
       "      <td>2466.620000</td>\n",
       "      <td>22.000000</td>\n",
       "      <td>8.000000</td>\n",
       "      <td>1019.500000</td>\n",
       "      <td>38.200000</td>\n",
       "      <td>57.200000</td>\n",
       "      <td>1.000000</td>\n",
       "    </tr>\n",
       "    <tr>\n",
       "      <th>max</th>\n",
       "      <td>31.000000</td>\n",
       "      <td>12.00000</td>\n",
       "      <td>11901.660000</td>\n",
       "      <td>30.000000</td>\n",
       "      <td>13.900000</td>\n",
       "      <td>1029.600000</td>\n",
       "      <td>82.400000</td>\n",
       "      <td>59.900000</td>\n",
       "      <td>1.000000</td>\n",
       "    </tr>\n",
       "  </tbody>\n",
       "</table>\n",
       "</div>"
      ],
      "text/plain": [
       "                dia          mes       km_ovsd       t_media  v_media_viento  \\\n",
       "count  17662.000000  17662.00000  17662.000000  14749.000000    14749.000000   \n",
       "mean      15.655362      6.87827   2168.108333     17.017561        6.383294   \n",
       "std        8.643520      3.51420   2367.441235      6.113554        2.163886   \n",
       "min        1.000000      1.00000    172.470000      4.000000        0.900000   \n",
       "25%        8.000000      4.00000    918.820000     12.000000        4.700000   \n",
       "50%       15.000000      7.00000   1229.560000     16.000000        6.200000   \n",
       "75%       23.000000     10.00000   2466.620000     22.000000        8.000000   \n",
       "max       31.000000     12.00000  11901.660000     30.000000       13.900000   \n",
       "\n",
       "       presion_media  cantidad_de_lluvia_mm  nubosidad_perc  temporada_alta  \n",
       "count   14749.000000           17662.000000    17662.000000    17662.000000  \n",
       "mean     1017.486657              18.471566       37.743608        0.330597  \n",
       "std         3.292857              25.535611       17.190177        0.470441  \n",
       "min      1009.600000               0.000000        9.700000        0.000000  \n",
       "25%      1015.000000               1.500000       27.400000        0.000000  \n",
       "50%      1017.000000               2.000000       38.200000        0.000000  \n",
       "75%      1019.500000              38.200000       57.200000        1.000000  \n",
       "max      1029.600000              82.400000       59.900000        1.000000  "
      ]
     },
     "execution_count": 276,
     "metadata": {},
     "output_type": "execute_result"
    }
   ],
   "source": [
    "# sanity check contra el stats_dict\n",
    "X_train_resampled.describe()"
   ]
  },
  {
   "cell_type": "code",
   "execution_count": 277,
   "metadata": {},
   "outputs": [
    {
     "data": {
      "text/plain": [
       "(17662, 9)"
      ]
     },
     "execution_count": 277,
     "metadata": {},
     "output_type": "execute_result"
    }
   ],
   "source": [
    "X_train_nump_proc.shape"
   ]
  },
  {
   "cell_type": "code",
   "execution_count": 278,
   "metadata": {},
   "outputs": [
    {
     "data": {
      "text/plain": [
       "atraso_15\n",
       "0.0          8831\n",
       "1.0          8831\n",
       "dtype: int64"
      ]
     },
     "execution_count": 278,
     "metadata": {},
     "output_type": "execute_result"
    }
   ],
   "source": [
    "y_train_resampled.value_counts()"
   ]
  },
  {
   "cell_type": "code",
   "execution_count": 279,
   "metadata": {},
   "outputs": [
    {
     "data": {
      "text/plain": [
       "array([0., 0., 0., ..., 1., 1., 1.])"
      ]
     },
     "execution_count": 279,
     "metadata": {},
     "output_type": "execute_result"
    }
   ],
   "source": [
    "train_labels = y_train_resampled.to_numpy().flatten().copy()\n",
    "train_labels"
   ]
  },
  {
   "cell_type": "code",
   "execution_count": 280,
   "metadata": {},
   "outputs": [
    {
     "data": {
      "text/plain": [
       "array([0., 0., 0., 0., 0., 0., 0., 0., 0., 0.])"
      ]
     },
     "execution_count": 280,
     "metadata": {},
     "output_type": "execute_result"
    }
   ],
   "source": [
    "train_labels[:10]"
   ]
  },
  {
   "cell_type": "code",
   "execution_count": 281,
   "metadata": {},
   "outputs": [
    {
     "data": {
      "text/plain": [
       "8831.0"
      ]
     },
     "execution_count": 281,
     "metadata": {},
     "output_type": "execute_result"
    }
   ],
   "source": [
    "train_labels.sum()"
   ]
  },
  {
   "cell_type": "code",
   "execution_count": 282,
   "metadata": {},
   "outputs": [
    {
     "data": {
      "text/plain": [
       "((17662, 9), (17662,))"
      ]
     },
     "execution_count": 282,
     "metadata": {},
     "output_type": "execute_result"
    }
   ],
   "source": [
    "X_train_nump_proc.shape, train_labels.shape"
   ]
  },
  {
   "cell_type": "code",
   "execution_count": 283,
   "metadata": {},
   "outputs": [
    {
     "data": {
      "text/html": [
       "<style>#sk-container-id-4 {color: black;background-color: white;}#sk-container-id-4 pre{padding: 0;}#sk-container-id-4 div.sk-toggleable {background-color: white;}#sk-container-id-4 label.sk-toggleable__label {cursor: pointer;display: block;width: 100%;margin-bottom: 0;padding: 0.3em;box-sizing: border-box;text-align: center;}#sk-container-id-4 label.sk-toggleable__label-arrow:before {content: \"▸\";float: left;margin-right: 0.25em;color: #696969;}#sk-container-id-4 label.sk-toggleable__label-arrow:hover:before {color: black;}#sk-container-id-4 div.sk-estimator:hover label.sk-toggleable__label-arrow:before {color: black;}#sk-container-id-4 div.sk-toggleable__content {max-height: 0;max-width: 0;overflow: hidden;text-align: left;background-color: #f0f8ff;}#sk-container-id-4 div.sk-toggleable__content pre {margin: 0.2em;color: black;border-radius: 0.25em;background-color: #f0f8ff;}#sk-container-id-4 input.sk-toggleable__control:checked~div.sk-toggleable__content {max-height: 200px;max-width: 100%;overflow: auto;}#sk-container-id-4 input.sk-toggleable__control:checked~label.sk-toggleable__label-arrow:before {content: \"▾\";}#sk-container-id-4 div.sk-estimator input.sk-toggleable__control:checked~label.sk-toggleable__label {background-color: #d4ebff;}#sk-container-id-4 div.sk-label input.sk-toggleable__control:checked~label.sk-toggleable__label {background-color: #d4ebff;}#sk-container-id-4 input.sk-hidden--visually {border: 0;clip: rect(1px 1px 1px 1px);clip: rect(1px, 1px, 1px, 1px);height: 1px;margin: -1px;overflow: hidden;padding: 0;position: absolute;width: 1px;}#sk-container-id-4 div.sk-estimator {font-family: monospace;background-color: #f0f8ff;border: 1px dotted black;border-radius: 0.25em;box-sizing: border-box;margin-bottom: 0.5em;}#sk-container-id-4 div.sk-estimator:hover {background-color: #d4ebff;}#sk-container-id-4 div.sk-parallel-item::after {content: \"\";width: 100%;border-bottom: 1px solid gray;flex-grow: 1;}#sk-container-id-4 div.sk-label:hover label.sk-toggleable__label {background-color: #d4ebff;}#sk-container-id-4 div.sk-serial::before {content: \"\";position: absolute;border-left: 1px solid gray;box-sizing: border-box;top: 0;bottom: 0;left: 50%;z-index: 0;}#sk-container-id-4 div.sk-serial {display: flex;flex-direction: column;align-items: center;background-color: white;padding-right: 0.2em;padding-left: 0.2em;position: relative;}#sk-container-id-4 div.sk-item {position: relative;z-index: 1;}#sk-container-id-4 div.sk-parallel {display: flex;align-items: stretch;justify-content: center;background-color: white;position: relative;}#sk-container-id-4 div.sk-item::before, #sk-container-id-4 div.sk-parallel-item::before {content: \"\";position: absolute;border-left: 1px solid gray;box-sizing: border-box;top: 0;bottom: 0;left: 50%;z-index: -1;}#sk-container-id-4 div.sk-parallel-item {display: flex;flex-direction: column;z-index: 1;position: relative;background-color: white;}#sk-container-id-4 div.sk-parallel-item:first-child::after {align-self: flex-end;width: 50%;}#sk-container-id-4 div.sk-parallel-item:last-child::after {align-self: flex-start;width: 50%;}#sk-container-id-4 div.sk-parallel-item:only-child::after {width: 0;}#sk-container-id-4 div.sk-dashed-wrapped {border: 1px dashed gray;margin: 0 0.4em 0.5em 0.4em;box-sizing: border-box;padding-bottom: 0.4em;background-color: white;}#sk-container-id-4 div.sk-label label {font-family: monospace;font-weight: bold;display: inline-block;line-height: 1.2em;}#sk-container-id-4 div.sk-label-container {text-align: center;}#sk-container-id-4 div.sk-container {/* jupyter's `normalize.less` sets `[hidden] { display: none; }` but bootstrap.min.css set `[hidden] { display: none !important; }` so we also need the `!important` here to be able to override the default hidden behavior on the sphinx rendered scikit-learn.org. See: https://github.com/scikit-learn/scikit-learn/issues/21755 */display: inline-block !important;position: relative;}#sk-container-id-4 div.sk-text-repr-fallback {display: none;}</style><div id=\"sk-container-id-4\" class=\"sk-top-container\"><div class=\"sk-text-repr-fallback\"><pre>GradientBoostingClassifier(random_state=123)</pre><b>In a Jupyter environment, please rerun this cell to show the HTML representation or trust the notebook. <br />On GitHub, the HTML representation is unable to render, please try loading this page with nbviewer.org.</b></div><div class=\"sk-container\" hidden><div class=\"sk-item\"><div class=\"sk-estimator sk-toggleable\"><input class=\"sk-toggleable__control sk-hidden--visually\" id=\"sk-estimator-id-4\" type=\"checkbox\" checked><label for=\"sk-estimator-id-4\" class=\"sk-toggleable__label sk-toggleable__label-arrow\">GradientBoostingClassifier</label><div class=\"sk-toggleable__content\"><pre>GradientBoostingClassifier(random_state=123)</pre></div></div></div></div></div>"
      ],
      "text/plain": [
       "GradientBoostingClassifier(random_state=123)"
      ]
     },
     "execution_count": 283,
     "metadata": {},
     "output_type": "execute_result"
    }
   ],
   "source": [
    "gbc = GradientBoostingClassifier(random_state=123)\n",
    "gbc.fit(X_train_nump_proc, train_labels)"
   ]
  },
  {
   "cell_type": "code",
   "execution_count": 284,
   "metadata": {},
   "outputs": [],
   "source": [
    "train_preds = gbc.predict(X_train_nump_proc)"
   ]
  },
  {
   "cell_type": "code",
   "execution_count": 285,
   "metadata": {},
   "outputs": [
    {
     "data": {
      "text/plain": [
       "9205.0"
      ]
     },
     "execution_count": 285,
     "metadata": {},
     "output_type": "execute_result"
    }
   ],
   "source": [
    "train_preds.sum()"
   ]
  },
  {
   "cell_type": "code",
   "execution_count": 286,
   "metadata": {},
   "outputs": [
    {
     "data": {
      "text/plain": [
       "1"
      ]
     },
     "execution_count": 286,
     "metadata": {},
     "output_type": "execute_result"
    }
   ],
   "source": [
    "train_preds.ndim"
   ]
  },
  {
   "cell_type": "code",
   "execution_count": 287,
   "metadata": {},
   "outputs": [
    {
     "data": {
      "text/plain": [
       "array([1., 0., 0., 0., 1., 0., 0., 0., 1., 1.])"
      ]
     },
     "execution_count": 287,
     "metadata": {},
     "output_type": "execute_result"
    }
   ],
   "source": [
    "train_preds[:10]"
   ]
  },
  {
   "cell_type": "code",
   "execution_count": 288,
   "metadata": {},
   "outputs": [
    {
     "name": "stdout",
     "output_type": "stream",
     "text": [
      "Accuracy: 0.627\n",
      "AUC: 0.627\n",
      "Precision: 0.622\n",
      "Recall: 0.649\n",
      "F1-score: 0.635\n"
     ]
    }
   ],
   "source": [
    "from sklearn.metrics import roc_auc_score, precision_score, recall_score, f1_score, accuracy_score\n",
    "\n",
    "# assume y_true and y_pred are your true labels and predicted labels, respectively\n",
    "# y_pred should be the predicted probability of class 1 for each sample\n",
    "\n",
    "acu = accuracy_score(train_labels, train_preds)\n",
    "# calculate AUC\n",
    "auc = roc_auc_score(train_labels, train_preds)\n",
    "# calculate precision\n",
    "precision = precision_score(train_labels, train_preds)\n",
    "# calculate recall\n",
    "recall = recall_score(train_labels, train_preds)\n",
    "# calculate F1-score\n",
    "f1 = f1_score(train_labels, train_preds)\n",
    "\n",
    "print(f\"Accuracy: {acu:.3f}\")\n",
    "print(f\"AUC: {auc:.3f}\")\n",
    "print(f\"Precision: {precision:.3f}\")\n",
    "print(f\"Recall: {recall:.3f}\")\n",
    "print(f\"F1-score: {f1:.3f}\")"
   ]
  },
  {
   "attachments": {},
   "cell_type": "markdown",
   "metadata": {},
   "source": [
    "HACER ESTA EVAL SOBRE TRAIN USANDO CROSSVALIDATION PARA QUE SEA COMPARABLE CON EL RESULTADO EN PYCARET"
   ]
  },
  {
   "cell_type": "code",
   "execution_count": 289,
   "metadata": {},
   "outputs": [
    {
     "data": {
      "text/plain": [
       "{'dia': {'median': 15.0, 'min': 1.0, 'max': 31.0},\n",
       " 'mes': {'median': 7.0, 'min': 1.0, 'max': 12.0},\n",
       " 'km_ovsd': {'median': 1229.56, 'min': 172.47, 'max': 11901.66},\n",
       " 't_media': {'median': 16.0, 'min': 4.0, 'max': 30.0},\n",
       " 'v_media_viento': {'median': 6.2, 'min': 0.9, 'max': 13.9},\n",
       " 'presion_media': {'median': 1017.0, 'min': 1009.6, 'max': 1029.6},\n",
       " 'cantidad_de_lluvia_mm': {'median': 2.0, 'min': 0.0, 'max': 82.4},\n",
       " 'nubosidad_perc': {'median': 38.2, 'min': 9.7, 'max': 59.9},\n",
       " 'temporada_alta': {'median': 0.0, 'min': 0.0, 'max': 1.0}}"
      ]
     },
     "execution_count": 289,
     "metadata": {},
     "output_type": "execute_result"
    }
   ],
   "source": [
    "stats_dict"
   ]
  },
  {
   "cell_type": "code",
   "execution_count": 290,
   "metadata": {},
   "outputs": [
    {
     "data": {
      "text/plain": [
       "[0, 1, 2, 3, 4, 5, 6, 7, 8]"
      ]
     },
     "execution_count": 290,
     "metadata": {},
     "output_type": "execute_result"
    }
   ],
   "source": [
    "list(range(X_train_nump_proc.shape[1]))"
   ]
  },
  {
   "cell_type": "code",
   "execution_count": 291,
   "metadata": {},
   "outputs": [
    {
     "data": {
      "text/plain": [
       "['dia',\n",
       " 'mes',\n",
       " 'km_ovsd',\n",
       " 't_media',\n",
       " 'v_media_viento',\n",
       " 'presion_media',\n",
       " 'cantidad_de_lluvia_mm',\n",
       " 'nubosidad_perc',\n",
       " 'temporada_alta']"
      ]
     },
     "execution_count": 291,
     "metadata": {},
     "output_type": "execute_result"
    }
   ],
   "source": [
    "lst_vars"
   ]
  },
  {
   "cell_type": "code",
   "execution_count": 292,
   "metadata": {},
   "outputs": [
    {
     "data": {
      "text/plain": [
       "array([[2.20000e+01, 5.00000e+00, 4.40520e+02, ..., 3.82000e+01,\n",
       "        5.24000e+01, 0.00000e+00],\n",
       "       [3.00000e+00, 5.00000e+00, 2.19486e+03, ..., 3.82000e+01,\n",
       "        5.24000e+01, 0.00000e+00],\n",
       "       [1.00000e+01, 8.00000e+00, 9.18820e+02, ..., 2.18000e+01,\n",
       "        5.76000e+01, 0.00000e+00],\n",
       "       ...,\n",
       "       [2.10000e+01, 8.00000e+00, 1.22956e+03, ..., 2.18000e+01,\n",
       "        5.76000e+01, 0.00000e+00],\n",
       "       [2.40000e+01, 1.10000e+01, 2.46662e+03, ..., 2.00000e+00,\n",
       "        2.97000e+01, 0.00000e+00],\n",
       "       [7.00000e+00, 7.00000e+00, 7.49470e+02, ..., 5.68000e+01,\n",
       "        5.99000e+01, 0.00000e+00]])"
      ]
     },
     "execution_count": 292,
     "metadata": {},
     "output_type": "execute_result"
    }
   ],
   "source": [
    "X_test_nump"
   ]
  },
  {
   "cell_type": "code",
   "execution_count": 293,
   "metadata": {},
   "outputs": [
    {
     "data": {
      "text/plain": [
       "{'dia': {'median': 15.0, 'min': 1.0, 'max': 31.0},\n",
       " 'mes': {'median': 7.0, 'min': 1.0, 'max': 12.0},\n",
       " 'km_ovsd': {'median': 1229.56, 'min': 172.47, 'max': 11901.66},\n",
       " 't_media': {'median': 16.0, 'min': 4.0, 'max': 30.0},\n",
       " 'v_media_viento': {'median': 6.2, 'min': 0.9, 'max': 13.9},\n",
       " 'presion_media': {'median': 1017.0, 'min': 1009.6, 'max': 1029.6},\n",
       " 'cantidad_de_lluvia_mm': {'median': 2.0, 'min': 0.0, 'max': 82.4},\n",
       " 'nubosidad_perc': {'median': 38.2, 'min': 9.7, 'max': 59.9},\n",
       " 'temporada_alta': {'median': 0.0, 'min': 0.0, 'max': 1.0}}"
      ]
     },
     "execution_count": 293,
     "metadata": {},
     "output_type": "execute_result"
    }
   ],
   "source": [
    "stats_dict"
   ]
  },
  {
   "cell_type": "code",
   "execution_count": 294,
   "metadata": {},
   "outputs": [],
   "source": [
    "# Iterate through each feature and compute its median, min and max values from the training set\n",
    "\n",
    "def preprocess_test(data, lst_vars, stats_dict):\n",
    "    \n",
    "    scaler = lambda x, f_min, f_max: (x - f_min) / (f_max - f_min)\n",
    "    \n",
    "    for i, feature in enumerate(lst_vars):\n",
    "        \n",
    "        print(f'Iterating feature: {feature}')\n",
    "    \n",
    "        #for j in range(train_data.shape[1]):\n",
    "        median = stats_dict[feature][\"median\"]\n",
    "        f_min = stats_dict[feature][\"min\"]\n",
    "        f_max = stats_dict[feature][\"max\"]\n",
    "        \n",
    "        print(f'median:{median}, f_min:{f_min}, f_max:{f_max}')\n",
    "    \n",
    "        # # Replace missing values with the computed median in both train and test sets\n",
    "        data[:, i] = np.where(np.isnan(data[:, i]), median, data[:, i])\n",
    "        data[:, i] = scaler(data[:, i], f_min, f_max)\n",
    "        # test_data[:, i] = np.where(np.isnan(test_data[:, i]), median, test_data[:, i])\n",
    "\n",
    "    return data"
   ]
  },
  {
   "cell_type": "code",
   "execution_count": 295,
   "metadata": {},
   "outputs": [
    {
     "name": "stdout",
     "output_type": "stream",
     "text": [
      "Iterating feature: dia\n",
      "median:15.0, f_min:1.0, f_max:31.0\n",
      "Iterating feature: mes\n",
      "median:7.0, f_min:1.0, f_max:12.0\n",
      "Iterating feature: km_ovsd\n",
      "median:1229.56, f_min:172.47, f_max:11901.66\n",
      "Iterating feature: t_media\n",
      "median:16.0, f_min:4.0, f_max:30.0\n",
      "Iterating feature: v_media_viento\n",
      "median:6.2, f_min:0.9, f_max:13.9\n",
      "Iterating feature: presion_media\n",
      "median:1017.0, f_min:1009.6, f_max:1029.6\n",
      "Iterating feature: cantidad_de_lluvia_mm\n",
      "median:2.0, f_min:0.0, f_max:82.4\n",
      "Iterating feature: nubosidad_perc\n",
      "median:38.2, f_min:9.7, f_max:59.9\n",
      "Iterating feature: temporada_alta\n",
      "median:0.0, f_min:0.0, f_max:1.0\n"
     ]
    }
   ],
   "source": [
    "X_test_nump_proc = preprocess_test(X_test_nump, lst_vars, stats_dict)"
   ]
  },
  {
   "cell_type": "code",
   "execution_count": 299,
   "metadata": {},
   "outputs": [
    {
     "data": {
      "text/plain": [
       "array([[0.7       , 0.36363636, 0.02285324, ..., 0.46359223, 0.85059761,\n",
       "        0.        ],\n",
       "       [0.06666667, 0.36363636, 0.17242367, ..., 0.46359223, 0.85059761,\n",
       "        0.        ],\n",
       "       [0.3       , 0.63636364, 0.06363184, ..., 0.26456311, 0.95418327,\n",
       "        0.        ],\n",
       "       ...,\n",
       "       [0.66666667, 0.63636364, 0.09012472, ..., 0.26456311, 0.95418327,\n",
       "        0.        ],\n",
       "       [0.76666667, 0.90909091, 0.19559322, ..., 0.02427184, 0.39840637,\n",
       "        0.        ],\n",
       "       [0.2       , 0.54545455, 0.04919351, ..., 0.68932039, 1.        ,\n",
       "        0.        ]])"
      ]
     },
     "execution_count": 299,
     "metadata": {},
     "output_type": "execute_result"
    }
   ],
   "source": [
    "X_test_nump"
   ]
  },
  {
   "cell_type": "code",
   "execution_count": 301,
   "metadata": {},
   "outputs": [
    {
     "data": {
      "text/plain": [
       "array([[0.7       , 0.36363636, 0.02285324, ..., 0.46359223, 0.85059761,\n",
       "        0.        ],\n",
       "       [0.06666667, 0.36363636, 0.17242367, ..., 0.46359223, 0.85059761,\n",
       "        0.        ],\n",
       "       [0.3       , 0.63636364, 0.06363184, ..., 0.26456311, 0.95418327,\n",
       "        0.        ],\n",
       "       ...,\n",
       "       [0.66666667, 0.63636364, 0.09012472, ..., 0.26456311, 0.95418327,\n",
       "        0.        ],\n",
       "       [0.76666667, 0.90909091, 0.19559322, ..., 0.02427184, 0.39840637,\n",
       "        0.        ],\n",
       "       [0.2       , 0.54545455, 0.04919351, ..., 0.68932039, 1.        ,\n",
       "        0.        ]])"
      ]
     },
     "execution_count": 301,
     "metadata": {},
     "output_type": "execute_result"
    }
   ],
   "source": [
    "X_test_nump_proc"
   ]
  },
  {
   "cell_type": "code",
   "execution_count": 302,
   "metadata": {},
   "outputs": [],
   "source": [
    "test_preds = gbc.predict(X_test_nump_proc)"
   ]
  },
  {
   "cell_type": "code",
   "execution_count": 303,
   "metadata": {},
   "outputs": [
    {
     "data": {
      "text/plain": [
       "(20462, 9)"
      ]
     },
     "execution_count": 303,
     "metadata": {},
     "output_type": "execute_result"
    }
   ],
   "source": [
    "X_test_nump_proc.shape"
   ]
  },
  {
   "cell_type": "code",
   "execution_count": 304,
   "metadata": {},
   "outputs": [
    {
     "data": {
      "text/plain": [
       "array([0., 1., 0., ..., 0., 0., 0.])"
      ]
     },
     "execution_count": 304,
     "metadata": {},
     "output_type": "execute_result"
    }
   ],
   "source": [
    "test_labels = y_test.to_numpy().flatten().copy()\n",
    "test_labels"
   ]
  },
  {
   "cell_type": "code",
   "execution_count": 305,
   "metadata": {},
   "outputs": [
    {
     "data": {
      "text/plain": [
       "3783.0"
      ]
     },
     "execution_count": 305,
     "metadata": {},
     "output_type": "execute_result"
    }
   ],
   "source": [
    "test_labels.sum()"
   ]
  },
  {
   "cell_type": "code",
   "execution_count": 306,
   "metadata": {},
   "outputs": [
    {
     "data": {
      "text/plain": [
       "(20462,)"
      ]
     },
     "execution_count": 306,
     "metadata": {},
     "output_type": "execute_result"
    }
   ],
   "source": [
    "test_labels.shape"
   ]
  },
  {
   "cell_type": "code",
   "execution_count": 307,
   "metadata": {},
   "outputs": [
    {
     "name": "stdout",
     "output_type": "stream",
     "text": [
      "Accuracy: 0.605\n",
      "AUC: 0.617\n",
      "Precision: 0.264\n",
      "Recall: 0.636\n",
      "F1-score: 0.373\n"
     ]
    }
   ],
   "source": [
    "from sklearn.metrics import roc_auc_score, precision_score, recall_score, f1_score, accuracy_score\n",
    "\n",
    "# assume y_true and y_pred are your true labels and predicted labels, respectively\n",
    "# y_pred should be the predicted probability of class 1 for each sample\n",
    "\n",
    "acu = accuracy_score(test_labels, test_preds)\n",
    "# calculate AUC\n",
    "auc = roc_auc_score(test_labels, test_preds)\n",
    "# calculate precision\n",
    "precision = precision_score(test_labels, test_preds)\n",
    "# calculate recall\n",
    "recall = recall_score(test_labels, test_preds)\n",
    "# calculate F1-score\n",
    "f1 = f1_score(test_labels, test_preds)\n",
    "\n",
    "print(f\"Accuracy: {acu:.3f}\")\n",
    "print(f\"AUC: {auc:.3f}\")\n",
    "print(f\"Precision: {precision:.3f}\")\n",
    "print(f\"Recall: {recall:.3f}\")\n",
    "print(f\"F1-score: {f1:.3f}\")"
   ]
  },
  {
   "cell_type": "code",
   "execution_count": 309,
   "metadata": {},
   "outputs": [],
   "source": [
    "# # save a sample to test the api later\n",
    "\n",
    "import json\n",
    "\n",
    "# write the dictionary to a JSON file\n",
    "with open('../ML-FASTAPI-DOCKER-HEROKU/stats_dict.json', \"w\") as f:\n",
    "    json.dump(stats_dict, f)"
   ]
  },
  {
   "cell_type": "code",
   "execution_count": 310,
   "metadata": {},
   "outputs": [],
   "source": [
    "import pickle"
   ]
  },
  {
   "cell_type": "code",
   "execution_count": 315,
   "metadata": {},
   "outputs": [],
   "source": [
    "with open('../models/gbc_numpy_processing.pkl', 'wb') as file:\n",
    "    pickle.dump(gbc, file)"
   ]
  },
  {
   "cell_type": "code",
   "execution_count": 316,
   "metadata": {},
   "outputs": [],
   "source": [
    "with open('../models/gbc_numpy_processing.pkl', 'rb') as f:\n",
    "    model = pickle.load(f)"
   ]
  },
  {
   "cell_type": "code",
   "execution_count": 317,
   "metadata": {},
   "outputs": [
    {
     "data": {
      "text/html": [
       "<style>#sk-container-id-6 {color: black;background-color: white;}#sk-container-id-6 pre{padding: 0;}#sk-container-id-6 div.sk-toggleable {background-color: white;}#sk-container-id-6 label.sk-toggleable__label {cursor: pointer;display: block;width: 100%;margin-bottom: 0;padding: 0.3em;box-sizing: border-box;text-align: center;}#sk-container-id-6 label.sk-toggleable__label-arrow:before {content: \"▸\";float: left;margin-right: 0.25em;color: #696969;}#sk-container-id-6 label.sk-toggleable__label-arrow:hover:before {color: black;}#sk-container-id-6 div.sk-estimator:hover label.sk-toggleable__label-arrow:before {color: black;}#sk-container-id-6 div.sk-toggleable__content {max-height: 0;max-width: 0;overflow: hidden;text-align: left;background-color: #f0f8ff;}#sk-container-id-6 div.sk-toggleable__content pre {margin: 0.2em;color: black;border-radius: 0.25em;background-color: #f0f8ff;}#sk-container-id-6 input.sk-toggleable__control:checked~div.sk-toggleable__content {max-height: 200px;max-width: 100%;overflow: auto;}#sk-container-id-6 input.sk-toggleable__control:checked~label.sk-toggleable__label-arrow:before {content: \"▾\";}#sk-container-id-6 div.sk-estimator input.sk-toggleable__control:checked~label.sk-toggleable__label {background-color: #d4ebff;}#sk-container-id-6 div.sk-label input.sk-toggleable__control:checked~label.sk-toggleable__label {background-color: #d4ebff;}#sk-container-id-6 input.sk-hidden--visually {border: 0;clip: rect(1px 1px 1px 1px);clip: rect(1px, 1px, 1px, 1px);height: 1px;margin: -1px;overflow: hidden;padding: 0;position: absolute;width: 1px;}#sk-container-id-6 div.sk-estimator {font-family: monospace;background-color: #f0f8ff;border: 1px dotted black;border-radius: 0.25em;box-sizing: border-box;margin-bottom: 0.5em;}#sk-container-id-6 div.sk-estimator:hover {background-color: #d4ebff;}#sk-container-id-6 div.sk-parallel-item::after {content: \"\";width: 100%;border-bottom: 1px solid gray;flex-grow: 1;}#sk-container-id-6 div.sk-label:hover label.sk-toggleable__label {background-color: #d4ebff;}#sk-container-id-6 div.sk-serial::before {content: \"\";position: absolute;border-left: 1px solid gray;box-sizing: border-box;top: 0;bottom: 0;left: 50%;z-index: 0;}#sk-container-id-6 div.sk-serial {display: flex;flex-direction: column;align-items: center;background-color: white;padding-right: 0.2em;padding-left: 0.2em;position: relative;}#sk-container-id-6 div.sk-item {position: relative;z-index: 1;}#sk-container-id-6 div.sk-parallel {display: flex;align-items: stretch;justify-content: center;background-color: white;position: relative;}#sk-container-id-6 div.sk-item::before, #sk-container-id-6 div.sk-parallel-item::before {content: \"\";position: absolute;border-left: 1px solid gray;box-sizing: border-box;top: 0;bottom: 0;left: 50%;z-index: -1;}#sk-container-id-6 div.sk-parallel-item {display: flex;flex-direction: column;z-index: 1;position: relative;background-color: white;}#sk-container-id-6 div.sk-parallel-item:first-child::after {align-self: flex-end;width: 50%;}#sk-container-id-6 div.sk-parallel-item:last-child::after {align-self: flex-start;width: 50%;}#sk-container-id-6 div.sk-parallel-item:only-child::after {width: 0;}#sk-container-id-6 div.sk-dashed-wrapped {border: 1px dashed gray;margin: 0 0.4em 0.5em 0.4em;box-sizing: border-box;padding-bottom: 0.4em;background-color: white;}#sk-container-id-6 div.sk-label label {font-family: monospace;font-weight: bold;display: inline-block;line-height: 1.2em;}#sk-container-id-6 div.sk-label-container {text-align: center;}#sk-container-id-6 div.sk-container {/* jupyter's `normalize.less` sets `[hidden] { display: none; }` but bootstrap.min.css set `[hidden] { display: none !important; }` so we also need the `!important` here to be able to override the default hidden behavior on the sphinx rendered scikit-learn.org. See: https://github.com/scikit-learn/scikit-learn/issues/21755 */display: inline-block !important;position: relative;}#sk-container-id-6 div.sk-text-repr-fallback {display: none;}</style><div id=\"sk-container-id-6\" class=\"sk-top-container\"><div class=\"sk-text-repr-fallback\"><pre>GradientBoostingClassifier(random_state=123)</pre><b>In a Jupyter environment, please rerun this cell to show the HTML representation or trust the notebook. <br />On GitHub, the HTML representation is unable to render, please try loading this page with nbviewer.org.</b></div><div class=\"sk-container\" hidden><div class=\"sk-item\"><div class=\"sk-estimator sk-toggleable\"><input class=\"sk-toggleable__control sk-hidden--visually\" id=\"sk-estimator-id-6\" type=\"checkbox\" checked><label for=\"sk-estimator-id-6\" class=\"sk-toggleable__label sk-toggleable__label-arrow\">GradientBoostingClassifier</label><div class=\"sk-toggleable__content\"><pre>GradientBoostingClassifier(random_state=123)</pre></div></div></div></div></div>"
      ],
      "text/plain": [
       "GradientBoostingClassifier(random_state=123)"
      ]
     },
     "execution_count": 317,
     "metadata": {},
     "output_type": "execute_result"
    }
   ],
   "source": [
    "model"
   ]
  },
  {
   "attachments": {},
   "cell_type": "markdown",
   "metadata": {},
   "source": [
    "## Prueba prod\n",
    "En esta seccion hicimos pruebas manuales para asegurarnos de que el codigo que ibamos a usar para el modulo de la api era correcto e iba a correr sin errores"
   ]
  },
  {
   "cell_type": "code",
   "execution_count": 312,
   "metadata": {},
   "outputs": [
    {
     "data": {
      "text/html": [
       "<div>\n",
       "<style scoped>\n",
       "    .dataframe tbody tr th:only-of-type {\n",
       "        vertical-align: middle;\n",
       "    }\n",
       "\n",
       "    .dataframe tbody tr th {\n",
       "        vertical-align: top;\n",
       "    }\n",
       "\n",
       "    .dataframe thead th {\n",
       "        text-align: right;\n",
       "    }\n",
       "</style>\n",
       "<table border=\"1\" class=\"dataframe\">\n",
       "  <thead>\n",
       "    <tr style=\"text-align: right;\">\n",
       "      <th></th>\n",
       "      <th>dia</th>\n",
       "      <th>mes</th>\n",
       "      <th>km_ovsd</th>\n",
       "      <th>t_media</th>\n",
       "      <th>v_media_viento</th>\n",
       "      <th>presion_media</th>\n",
       "      <th>cantidad_de_lluvia_mm</th>\n",
       "      <th>nubosidad_perc</th>\n",
       "      <th>temporada_alta</th>\n",
       "    </tr>\n",
       "  </thead>\n",
       "  <tbody>\n",
       "    <tr>\n",
       "      <th>0</th>\n",
       "      <td>4.0</td>\n",
       "      <td>7.0</td>\n",
       "      <td>2466.62</td>\n",
       "      <td>8.0</td>\n",
       "      <td>9.1</td>\n",
       "      <td>1022.0</td>\n",
       "      <td>56.8</td>\n",
       "      <td>59.9</td>\n",
       "      <td>0.0</td>\n",
       "    </tr>\n",
       "    <tr>\n",
       "      <th>1</th>\n",
       "      <td>25.0</td>\n",
       "      <td>9.0</td>\n",
       "      <td>1086.84</td>\n",
       "      <td>18.0</td>\n",
       "      <td>6.0</td>\n",
       "      <td>1019.4</td>\n",
       "      <td>13.7</td>\n",
       "      <td>53.5</td>\n",
       "      <td>1.0</td>\n",
       "    </tr>\n",
       "    <tr>\n",
       "      <th>2</th>\n",
       "      <td>16.0</td>\n",
       "      <td>1.0</td>\n",
       "      <td>918.82</td>\n",
       "      <td>26.0</td>\n",
       "      <td>9.1</td>\n",
       "      <td>1016.0</td>\n",
       "      <td>0.0</td>\n",
       "      <td>17.6</td>\n",
       "      <td>1.0</td>\n",
       "    </tr>\n",
       "    <tr>\n",
       "      <th>3</th>\n",
       "      <td>13.0</td>\n",
       "      <td>1.0</td>\n",
       "      <td>1229.56</td>\n",
       "      <td>30.0</td>\n",
       "      <td>9.5</td>\n",
       "      <td>1014.2</td>\n",
       "      <td>0.0</td>\n",
       "      <td>17.6</td>\n",
       "      <td>1.0</td>\n",
       "    </tr>\n",
       "    <tr>\n",
       "      <th>4</th>\n",
       "      <td>26.0</td>\n",
       "      <td>8.0</td>\n",
       "      <td>172.47</td>\n",
       "      <td>11.0</td>\n",
       "      <td>5.3</td>\n",
       "      <td>1019.7</td>\n",
       "      <td>21.8</td>\n",
       "      <td>57.6</td>\n",
       "      <td>0.0</td>\n",
       "    </tr>\n",
       "    <tr>\n",
       "      <th>...</th>\n",
       "      <td>...</td>\n",
       "      <td>...</td>\n",
       "      <td>...</td>\n",
       "      <td>...</td>\n",
       "      <td>...</td>\n",
       "      <td>...</td>\n",
       "      <td>...</td>\n",
       "      <td>...</td>\n",
       "      <td>...</td>\n",
       "    </tr>\n",
       "    <tr>\n",
       "      <th>17657</th>\n",
       "      <td>19.0</td>\n",
       "      <td>9.0</td>\n",
       "      <td>172.47</td>\n",
       "      <td>11.0</td>\n",
       "      <td>5.6</td>\n",
       "      <td>1020.8</td>\n",
       "      <td>13.7</td>\n",
       "      <td>53.5</td>\n",
       "      <td>1.0</td>\n",
       "    </tr>\n",
       "    <tr>\n",
       "      <th>17658</th>\n",
       "      <td>8.0</td>\n",
       "      <td>5.0</td>\n",
       "      <td>2466.62</td>\n",
       "      <td>15.0</td>\n",
       "      <td>3.7</td>\n",
       "      <td>1017.9</td>\n",
       "      <td>38.2</td>\n",
       "      <td>52.4</td>\n",
       "      <td>0.0</td>\n",
       "    </tr>\n",
       "    <tr>\n",
       "      <th>17659</th>\n",
       "      <td>1.0</td>\n",
       "      <td>11.0</td>\n",
       "      <td>4252.23</td>\n",
       "      <td>14.0</td>\n",
       "      <td>3.6</td>\n",
       "      <td>1016.6</td>\n",
       "      <td>2.0</td>\n",
       "      <td>29.7</td>\n",
       "      <td>0.0</td>\n",
       "    </tr>\n",
       "    <tr>\n",
       "      <th>17660</th>\n",
       "      <td>4.0</td>\n",
       "      <td>12.0</td>\n",
       "      <td>895.71</td>\n",
       "      <td>NaN</td>\n",
       "      <td>NaN</td>\n",
       "      <td>NaN</td>\n",
       "      <td>1.5</td>\n",
       "      <td>27.5</td>\n",
       "      <td>0.0</td>\n",
       "    </tr>\n",
       "    <tr>\n",
       "      <th>17661</th>\n",
       "      <td>29.0</td>\n",
       "      <td>12.0</td>\n",
       "      <td>1086.84</td>\n",
       "      <td>NaN</td>\n",
       "      <td>NaN</td>\n",
       "      <td>NaN</td>\n",
       "      <td>1.5</td>\n",
       "      <td>27.5</td>\n",
       "      <td>1.0</td>\n",
       "    </tr>\n",
       "  </tbody>\n",
       "</table>\n",
       "<p>17662 rows × 9 columns</p>\n",
       "</div>"
      ],
      "text/plain": [
       "        dia   mes  km_ovsd  t_media  v_media_viento  presion_media  \\\n",
       "0       4.0   7.0  2466.62      8.0             9.1         1022.0   \n",
       "1      25.0   9.0  1086.84     18.0             6.0         1019.4   \n",
       "2      16.0   1.0   918.82     26.0             9.1         1016.0   \n",
       "3      13.0   1.0  1229.56     30.0             9.5         1014.2   \n",
       "4      26.0   8.0   172.47     11.0             5.3         1019.7   \n",
       "...     ...   ...      ...      ...             ...            ...   \n",
       "17657  19.0   9.0   172.47     11.0             5.6         1020.8   \n",
       "17658   8.0   5.0  2466.62     15.0             3.7         1017.9   \n",
       "17659   1.0  11.0  4252.23     14.0             3.6         1016.6   \n",
       "17660   4.0  12.0   895.71      NaN             NaN            NaN   \n",
       "17661  29.0  12.0  1086.84      NaN             NaN            NaN   \n",
       "\n",
       "       cantidad_de_lluvia_mm  nubosidad_perc  temporada_alta  \n",
       "0                       56.8            59.9             0.0  \n",
       "1                       13.7            53.5             1.0  \n",
       "2                        0.0            17.6             1.0  \n",
       "3                        0.0            17.6             1.0  \n",
       "4                       21.8            57.6             0.0  \n",
       "...                      ...             ...             ...  \n",
       "17657                   13.7            53.5             1.0  \n",
       "17658                   38.2            52.4             0.0  \n",
       "17659                    2.0            29.7             0.0  \n",
       "17660                    1.5            27.5             0.0  \n",
       "17661                    1.5            27.5             1.0  \n",
       "\n",
       "[17662 rows x 9 columns]"
      ]
     },
     "execution_count": 312,
     "metadata": {},
     "output_type": "execute_result"
    }
   ],
   "source": [
    "X_train_resampled"
   ]
  },
  {
   "cell_type": "code",
   "execution_count": 139,
   "metadata": {},
   "outputs": [
    {
     "data": {
      "text/plain": [
       "1"
      ]
     },
     "execution_count": 139,
     "metadata": {},
     "output_type": "execute_result"
    }
   ],
   "source": [
    "X_train_resampled.iloc[17660,:].to_numpy().ndim"
   ]
  },
  {
   "cell_type": "code",
   "execution_count": 140,
   "metadata": {},
   "outputs": [
    {
     "data": {
      "text/plain": [
       "array([  4.  ,  12.  , 895.71,    nan,    nan,    nan,   1.5 ,  27.5 ,\n",
       "         0.  ])"
      ]
     },
     "execution_count": 140,
     "metadata": {},
     "output_type": "execute_result"
    }
   ],
   "source": [
    "sample_item = X_train_resampled.iloc[17660,:].to_numpy()\n",
    "sample_item"
   ]
  },
  {
   "cell_type": "code",
   "execution_count": 216,
   "metadata": {},
   "outputs": [],
   "source": [
    "sample_item = {\n",
    "    \"dia\":np.nan\n",
    "    ,\"mes\":9.00\n",
    "    ,\"km_ovsd\":1086.84\n",
    "    ,\"t_media\":21.00\n",
    "    ,\"v_media_viento\":6.10\n",
    "    ,\"presion_media\":1015.50\n",
    "    ,\"cantidad_de_lluvia_mm\":13.70\n",
    "    ,\"nubosidad_perc\":np.nan\n",
    "    ,\"temporada_alta\":1.00         \n",
    "}"
   ]
  },
  {
   "cell_type": "code",
   "execution_count": 217,
   "metadata": {},
   "outputs": [
    {
     "data": {
      "text/plain": [
       "array([[        nan, 9.00000e+00, 1.08684e+03, 2.10000e+01, 6.10000e+00,\n",
       "        1.01550e+03, 1.37000e+01,         nan, 1.00000e+00]])"
      ]
     },
     "execution_count": 217,
     "metadata": {},
     "output_type": "execute_result"
    }
   ],
   "source": [
    "sample_item_array = np.array(list(sample_item.values())).reshape(1, -1)\n",
    "sample_item_array"
   ]
  },
  {
   "cell_type": "code",
   "execution_count": 191,
   "metadata": {},
   "outputs": [
    {
     "data": {
      "text/plain": [
       "nan"
      ]
     },
     "execution_count": 191,
     "metadata": {},
     "output_type": "execute_result"
    }
   ],
   "source": [
    "sample_item_array[0][0]"
   ]
  },
  {
   "cell_type": "code",
   "execution_count": 192,
   "metadata": {},
   "outputs": [],
   "source": [
    "# (16.0 - 1.0) / (31.0 - 1.0)"
   ]
  },
  {
   "cell_type": "code",
   "execution_count": 193,
   "metadata": {},
   "outputs": [
    {
     "data": {
      "text/plain": [
       "2"
      ]
     },
     "execution_count": 193,
     "metadata": {},
     "output_type": "execute_result"
    }
   ],
   "source": [
    "sample_item_array.ndim"
   ]
  },
  {
   "cell_type": "code",
   "execution_count": 195,
   "metadata": {},
   "outputs": [
    {
     "data": {
      "text/plain": [
       "['dia',\n",
       " 'mes',\n",
       " 'km_ovsd',\n",
       " 't_media',\n",
       " 'v_media_viento',\n",
       " 'presion_media',\n",
       " 'cantidad_de_lluvia_mm',\n",
       " 'nubosidad_perc',\n",
       " 'temporada_alta']"
      ]
     },
     "execution_count": 195,
     "metadata": {},
     "output_type": "execute_result"
    }
   ],
   "source": [
    "lst_vars"
   ]
  },
  {
   "cell_type": "code",
   "execution_count": 196,
   "metadata": {},
   "outputs": [
    {
     "data": {
      "text/plain": [
       "{'dia': {'median': 15.0, 'min': 1.0, 'max': 31.0},\n",
       " 'mes': {'median': 7.0, 'min': 1.0, 'max': 12.0},\n",
       " 'km_ovsd': {'median': 1229.56, 'min': 172.47, 'max': 11901.66},\n",
       " 't_media': {'median': 16.0, 'min': 4.0, 'max': 30.0},\n",
       " 'v_media_viento': {'median': 6.2, 'min': 0.9, 'max': 13.9},\n",
       " 'presion_media': {'median': 1017.0, 'min': 1009.6, 'max': 1029.6},\n",
       " 'cantidad_de_lluvia_mm': {'median': 2.0, 'min': 0.0, 'max': 82.4},\n",
       " 'nubosidad_perc': {'median': 38.2, 'min': 9.7, 'max': 59.9},\n",
       " 'temporada_alta': {'median': 0.0, 'min': 0.0, 'max': 1.0}}"
      ]
     },
     "execution_count": 196,
     "metadata": {},
     "output_type": "execute_result"
    }
   ],
   "source": [
    "stats_dict"
   ]
  },
  {
   "cell_type": "code",
   "execution_count": 197,
   "metadata": {},
   "outputs": [
    {
     "data": {
      "text/plain": [
       "array([[        nan, 9.00000e+00, 1.08684e+03, 2.10000e+01, 6.10000e+00,\n",
       "        1.01550e+03, 1.37000e+01, 5.35000e+01, 1.00000e+00]])"
      ]
     },
     "execution_count": 197,
     "metadata": {},
     "output_type": "execute_result"
    }
   ],
   "source": [
    "sample_item_array"
   ]
  },
  {
   "cell_type": "code",
   "execution_count": 198,
   "metadata": {},
   "outputs": [],
   "source": [
    "# sample_item_array_processed = preprocess_test(sample_item_array, lst_vars, stats_dict)"
   ]
  },
  {
   "cell_type": "code",
   "execution_count": 178,
   "metadata": {},
   "outputs": [],
   "source": [
    "median = stats_dict['dia'][\"median\"]\n",
    "f_min = stats_dict['dia'][\"min\"]\n",
    "f_max = stats_dict['dia'][\"max\"]"
   ]
  },
  {
   "cell_type": "code",
   "execution_count": 179,
   "metadata": {},
   "outputs": [
    {
     "data": {
      "text/plain": [
       "(15.0, 1.0, 31.0)"
      ]
     },
     "execution_count": 179,
     "metadata": {},
     "output_type": "execute_result"
    }
   ],
   "source": [
    "median, f_min, f_max"
   ]
  },
  {
   "cell_type": "code",
   "execution_count": 181,
   "metadata": {},
   "outputs": [],
   "source": [
    "imputer = lambda x, median: np.where(np.isnan(x), median, x)\n",
    "scaler = lambda x, f_min, f_max: (x - f_min) / (f_max - f_min)"
   ]
  },
  {
   "cell_type": "code",
   "execution_count": 182,
   "metadata": {},
   "outputs": [
    {
     "data": {
      "text/plain": [
       "array([nan])"
      ]
     },
     "execution_count": 182,
     "metadata": {},
     "output_type": "execute_result"
    }
   ],
   "source": [
    "sample_item_array[:, 0]"
   ]
  },
  {
   "cell_type": "code",
   "execution_count": 183,
   "metadata": {},
   "outputs": [
    {
     "data": {
      "text/plain": [
       "array([15.])"
      ]
     },
     "execution_count": 183,
     "metadata": {},
     "output_type": "execute_result"
    }
   ],
   "source": [
    "sample_item_array[:, 0] = imputer(sample_item_array[:, 0], median)\n",
    "sample_item_array[:, 0]"
   ]
  },
  {
   "cell_type": "code",
   "execution_count": 186,
   "metadata": {},
   "outputs": [
    {
     "data": {
      "text/plain": [
       "array([0.46666667])"
      ]
     },
     "execution_count": 186,
     "metadata": {},
     "output_type": "execute_result"
    }
   ],
   "source": [
    "sample_item_array[:, 0] = scaler(sample_item_array[:, 0], f_min, f_max)\n",
    "sample_item_array[:, 0]"
   ]
  },
  {
   "cell_type": "code",
   "execution_count": 187,
   "metadata": {},
   "outputs": [
    {
     "data": {
      "text/plain": [
       "0.4666666666666667"
      ]
     },
     "execution_count": 187,
     "metadata": {},
     "output_type": "execute_result"
    }
   ],
   "source": [
    "(15 - 1) / (31- 1)"
   ]
  },
  {
   "cell_type": "code",
   "execution_count": 199,
   "metadata": {},
   "outputs": [],
   "source": [
    "def processing_payload(payload, lst_vars):\n",
    "    \n",
    "    for i, feature in enumerate(lst_vars):\n",
    "        \n",
    "        print(f'Iterating feature: {feature}')\n",
    "\n",
    "        #for j in range(train_data.shape[1]):\n",
    "        median = stats_dict[feature][\"median\"]\n",
    "        f_min = stats_dict[feature][\"min\"]\n",
    "        f_max = stats_dict[feature][\"max\"]\n",
    "        \n",
    "        print(f'median:{median}, f_min:{f_min}, f_max:{f_max}')\n",
    "        \n",
    "        payload[:, i] = imputer(payload[:, i], median)\n",
    "        print(payload[:, i])\n",
    "        \n",
    "        payload[:, i] = scaler(payload[:, i], f_min, f_max)\n",
    "        print(payload[:, i])\n",
    "        \n",
    "    return payload"
   ]
  },
  {
   "cell_type": "code",
   "execution_count": 200,
   "metadata": {},
   "outputs": [
    {
     "data": {
      "text/plain": [
       "array([[        nan, 9.00000e+00, 1.08684e+03, 2.10000e+01, 6.10000e+00,\n",
       "        1.01550e+03, 1.37000e+01, 5.35000e+01, 1.00000e+00]])"
      ]
     },
     "execution_count": 200,
     "metadata": {},
     "output_type": "execute_result"
    }
   ],
   "source": [
    "sample_item_array"
   ]
  },
  {
   "cell_type": "code",
   "execution_count": 201,
   "metadata": {},
   "outputs": [
    {
     "data": {
      "text/plain": [
       "['dia',\n",
       " 'mes',\n",
       " 'km_ovsd',\n",
       " 't_media',\n",
       " 'v_media_viento',\n",
       " 'presion_media',\n",
       " 'cantidad_de_lluvia_mm',\n",
       " 'nubosidad_perc',\n",
       " 'temporada_alta']"
      ]
     },
     "execution_count": 201,
     "metadata": {},
     "output_type": "execute_result"
    }
   ],
   "source": [
    "lst_vars"
   ]
  },
  {
   "cell_type": "code",
   "execution_count": 202,
   "metadata": {},
   "outputs": [
    {
     "name": "stdout",
     "output_type": "stream",
     "text": [
      "Iterating feature: dia\n",
      "median:15.0, f_min:1.0, f_max:31.0\n",
      "[15.]\n",
      "[0.46666667]\n",
      "Iterating feature: mes\n",
      "median:7.0, f_min:1.0, f_max:12.0\n",
      "[9.]\n",
      "[0.72727273]\n",
      "Iterating feature: km_ovsd\n",
      "median:1229.56, f_min:172.47, f_max:11901.66\n",
      "[1086.84]\n",
      "[0.07795679]\n",
      "Iterating feature: t_media\n",
      "median:16.0, f_min:4.0, f_max:30.0\n",
      "[21.]\n",
      "[0.65384615]\n",
      "Iterating feature: v_media_viento\n",
      "median:6.2, f_min:0.9, f_max:13.9\n",
      "[6.1]\n",
      "[0.4]\n",
      "Iterating feature: presion_media\n",
      "median:1017.0, f_min:1009.6, f_max:1029.6\n",
      "[1015.5]\n",
      "[0.295]\n",
      "Iterating feature: cantidad_de_lluvia_mm\n",
      "median:2.0, f_min:0.0, f_max:82.4\n",
      "[13.7]\n",
      "[0.16626214]\n",
      "Iterating feature: nubosidad_perc\n",
      "median:38.2, f_min:9.7, f_max:59.9\n",
      "[53.5]\n",
      "[0.87250996]\n",
      "Iterating feature: temporada_alta\n",
      "median:0.0, f_min:0.0, f_max:1.0\n",
      "[1.]\n",
      "[1.]\n"
     ]
    },
    {
     "data": {
      "text/plain": [
       "array([[0.46666667, 0.72727273, 0.07795679, 0.65384615, 0.4       ,\n",
       "        0.295     , 0.16626214, 0.87250996, 1.        ]])"
      ]
     },
     "execution_count": 202,
     "metadata": {},
     "output_type": "execute_result"
    }
   ],
   "source": [
    "sample_item_array_processed = processing_payload(payload=sample_item_array, lst_vars=lst_vars)\n",
    "sample_item_array_processed"
   ]
  },
  {
   "cell_type": "code",
   "execution_count": 203,
   "metadata": {},
   "outputs": [
    {
     "data": {
      "text/plain": [
       "array([[0.46666667, 0.72727273, 0.07795679, 0.65384615, 0.4       ,\n",
       "        0.295     , 0.16626214, 0.87250996, 1.        ]])"
      ]
     },
     "execution_count": 203,
     "metadata": {},
     "output_type": "execute_result"
    }
   ],
   "source": [
    "sample_item_array_processed"
   ]
  },
  {
   "cell_type": "code",
   "execution_count": 205,
   "metadata": {},
   "outputs": [
    {
     "data": {
      "text/plain": [
       "array([1.])"
      ]
     },
     "execution_count": 205,
     "metadata": {},
     "output_type": "execute_result"
    }
   ],
   "source": [
    "lr.predict(sample_item_array_processed)"
   ]
  },
  {
   "cell_type": "code",
   "execution_count": null,
   "metadata": {},
   "outputs": [],
   "source": [
    "def processing_payload(payload, lst_vars):\n",
    "    \n",
    "    payload_processed = payload.copy()\n",
    "\n",
    "    medians = np.array([stats_dict[feature][\"median\"] for feature in lst_vars])\n",
    "    f_mins = np.array([stats_dict[feature][\"min\"] for feature in lst_vars])\n",
    "    f_maxs = np.array([stats_dict[feature][\"max\"] for feature in lst_vars])\n",
    "\n",
    "    payload_processed = imputer(payload_processed, medians)\n",
    "    payload_processed = scaler(payload_processed, f_mins, f_maxs)\n",
    "\n",
    "    return payload_processed"
   ]
  },
  {
   "cell_type": "code",
   "execution_count": 206,
   "metadata": {},
   "outputs": [],
   "source": [
    "medians = np.array([stats_dict[feature][\"median\"] for feature in lst_vars])\n",
    "f_mins = np.array([stats_dict[feature][\"min\"] for feature in lst_vars])\n",
    "f_maxs = np.array([stats_dict[feature][\"max\"] for feature in lst_vars])"
   ]
  },
  {
   "cell_type": "code",
   "execution_count": 207,
   "metadata": {},
   "outputs": [
    {
     "data": {
      "text/plain": [
       "array([  15.  ,    7.  , 1229.56,   16.  ,    6.2 , 1017.  ,    2.  ,\n",
       "         38.2 ,    0.  ])"
      ]
     },
     "execution_count": 207,
     "metadata": {},
     "output_type": "execute_result"
    }
   ],
   "source": [
    "medians"
   ]
  },
  {
   "cell_type": "code",
   "execution_count": 208,
   "metadata": {},
   "outputs": [
    {
     "data": {
      "text/plain": [
       "array([1.0000e+00, 1.0000e+00, 1.7247e+02, 4.0000e+00, 9.0000e-01,\n",
       "       1.0096e+03, 0.0000e+00, 9.7000e+00, 0.0000e+00])"
      ]
     },
     "execution_count": 208,
     "metadata": {},
     "output_type": "execute_result"
    }
   ],
   "source": [
    "f_mins"
   ]
  },
  {
   "cell_type": "code",
   "execution_count": 209,
   "metadata": {},
   "outputs": [
    {
     "data": {
      "text/plain": [
       "array([3.100000e+01, 1.200000e+01, 1.190166e+04, 3.000000e+01,\n",
       "       1.390000e+01, 1.029600e+03, 8.240000e+01, 5.990000e+01,\n",
       "       1.000000e+00])"
      ]
     },
     "execution_count": 209,
     "metadata": {},
     "output_type": "execute_result"
    }
   ],
   "source": [
    "f_maxs"
   ]
  },
  {
   "cell_type": "code",
   "execution_count": 220,
   "metadata": {},
   "outputs": [
    {
     "data": {
      "text/plain": [
       "array([[        nan, 9.00000e+00, 1.08684e+03, 2.10000e+01, 6.10000e+00,\n",
       "        1.01550e+03, 1.37000e+01,         nan, 1.00000e+00]])"
      ]
     },
     "execution_count": 220,
     "metadata": {},
     "output_type": "execute_result"
    }
   ],
   "source": [
    "sample_item_array"
   ]
  },
  {
   "cell_type": "code",
   "execution_count": 219,
   "metadata": {},
   "outputs": [
    {
     "data": {
      "text/plain": [
       "array([[1.50000e+01, 9.00000e+00, 1.08684e+03, 2.10000e+01, 6.10000e+00,\n",
       "        1.01550e+03, 1.37000e+01, 3.82000e+01, 1.00000e+00]])"
      ]
     },
     "execution_count": 219,
     "metadata": {},
     "output_type": "execute_result"
    }
   ],
   "source": [
    "sample_item_array_processed = imputer(sample_item_array, medians).copy()\n",
    "sample_item_array_processed"
   ]
  },
  {
   "cell_type": "code",
   "execution_count": 222,
   "metadata": {},
   "outputs": [
    {
     "data": {
      "text/plain": [
       "array([[0.46666667, 0.72727273, 0.07795679, 0.65384615, 0.4       ,\n",
       "        0.295     , 0.16626214, 0.56772908, 1.        ]])"
      ]
     },
     "execution_count": 222,
     "metadata": {},
     "output_type": "execute_result"
    }
   ],
   "source": [
    "sample_item_array_processed_norm = scaler(sample_item_array_processed, f_mins, f_maxs).copy()\n",
    "sample_item_array_processed_norm"
   ]
  },
  {
   "cell_type": "code",
   "execution_count": 221,
   "metadata": {},
   "outputs": [
    {
     "data": {
      "text/plain": [
       "0.4666666666666667"
      ]
     },
     "execution_count": 221,
     "metadata": {},
     "output_type": "execute_result"
    }
   ],
   "source": [
    "(15 -1)/(31-1)"
   ]
  },
  {
   "cell_type": "markdown",
   "metadata": {},
   "source": [
    "---"
   ]
  },
  {
   "attachments": {},
   "cell_type": "markdown",
   "metadata": {},
   "source": [
    "Fin"
   ]
  }
 ],
 "metadata": {
  "kernelspec": {
   "display_name": "bnpl-conda-env",
   "language": "python",
   "name": "python3"
  },
  "language_info": {
   "codemirror_mode": {
    "name": "ipython",
    "version": 3
   },
   "file_extension": ".py",
   "mimetype": "text/x-python",
   "name": "python",
   "nbconvert_exporter": "python",
   "pygments_lexer": "ipython3",
   "version": "3.9.16"
  },
  "orig_nbformat": 4
 },
 "nbformat": 4,
 "nbformat_minor": 2
}
